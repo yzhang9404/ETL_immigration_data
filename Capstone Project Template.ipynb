{
 "cells": [
  {
   "cell_type": "markdown",
   "metadata": {
    "editable": true
   },
   "source": [
    "# USA Immigration in 2016\n",
    "### Data Engineering Capstone Project\n",
    "\n",
    "#### Project Summary\n",
    "\n",
    "This project is used to build a ETL pipeline with Spark for combining all data related to the immigration of USA in 2016. The data used here is:  \n",
    "- I94 Immigration Data\n",
    "- Word Temperature Data  \n",
    "- U.S. City Demographic Data  \n",
    "- Airport Code Table\n",
    "- Country Code Table\n",
    "\n",
    "**The project follows the follow steps:**\n",
    "* Step 1: Scope the Project and Gather Data\n",
    "* Step 2: Explore and Assess the Data\n",
    "* Step 3: Define the Data Model\n",
    "* Step 4: Run ETL to Model the Data\n",
    "* Step 5: Complete Project Write Up"
   ]
  },
  {
   "cell_type": "code",
   "execution_count": 2,
   "metadata": {
    "editable": true
   },
   "outputs": [],
   "source": [
    "import pandas as pd\n",
    "from pyspark.sql import SparkSession\n",
    "from pyspark.sql.functions import *\n",
    "from datetime import datetime, timedelta\n",
    "from pyspark.sql.types import StringType\n",
    "import numpy as np"
   ]
  },
  {
   "cell_type": "markdown",
   "metadata": {
    "editable": true
   },
   "source": [
    "### Step 1: Scope the Project and Gather Data\n",
    "\n",
    "#### Scope \n",
    "\n",
    "The goal of this project is to build the fact table including the immigration information and create the implement of 3 other dimension tables for immigration table. Here, a ETL pipeline will be processed using Spark. Also, we could run our ETL on AWS (S3, EMR, Airflow)\n",
    "\n",
    "#### Datasets"
   ]
  },
  {
   "cell_type": "markdown",
   "metadata": {
    "editable": true
   },
   "source": [
    "1. **I94 Immigration Data**: This data comes from the US National Tourism and Trade Office. The source of this data is from [link](https://travel.trade.gov/research/reports/i94/historical/2016.html). The table include the immagration information.   \n",
    "2. **World Temperature Data**: This dataset came from Kaggle. You can read more about it [link](https://www.kaggle.com/berkeleyearth/climate-change-earth-surface-temperature-data). This table include the temperature of different cities in different countries.  \n",
    "3. **U.S. City Demographic Data**: This data comes from OpenSoft. You can read more about it [link](https://public.opendatasoft.com/explore/dataset/us-cities-demographics/export/). This table includes poulation information for each city.  \n",
    "4. **Airport Code Table**: This is a simple table of airport codes and corresponding cities. It comes from [here](https://datahub.io/core/airport-codes#data).  \n",
    "5. **Countries code and airport 3 letters code**: The two tables are from name library file of immigration I94_SAS_Labels_Descriptions.SAS.  "
   ]
  },
  {
   "cell_type": "markdown",
   "metadata": {
    "editable": true
   },
   "source": [
    "#### 1.1 Create saprk work session"
   ]
  },
  {
   "cell_type": "code",
   "execution_count": 3,
   "metadata": {
    "editable": true
   },
   "outputs": [],
   "source": [
    "spark = SparkSession.builder.\\\n",
    "config(\"spark.jars.packages\",\"saurfang:spark-sas7bdat:2.0.0-s_2.11\")\\\n",
    ".enableHiveSupport().getOrCreate()"
   ]
  },
  {
   "cell_type": "markdown",
   "metadata": {
    "editable": true
   },
   "source": [
    "#### 1.2 Load in the immigration table"
   ]
  },
  {
   "cell_type": "code",
   "execution_count": 4,
   "metadata": {
    "editable": true
   },
   "outputs": [],
   "source": [
    "df_spark =spark.read.format('com.github.saurfang.sas.spark').load('../../data/18-83510-I94-Data-2016/i94_apr16_sub.sas7bdat')"
   ]
  },
  {
   "cell_type": "code",
   "execution_count": 5,
   "metadata": {
    "editable": true
   },
   "outputs": [
    {
     "data": {
      "text/html": [
       "<div>\n",
       "<style scoped>\n",
       "    .dataframe tbody tr th:only-of-type {\n",
       "        vertical-align: middle;\n",
       "    }\n",
       "\n",
       "    .dataframe tbody tr th {\n",
       "        vertical-align: top;\n",
       "    }\n",
       "\n",
       "    .dataframe thead th {\n",
       "        text-align: right;\n",
       "    }\n",
       "</style>\n",
       "<table border=\"1\" class=\"dataframe\">\n",
       "  <thead>\n",
       "    <tr style=\"text-align: right;\">\n",
       "      <th></th>\n",
       "      <th>cicid</th>\n",
       "      <th>i94yr</th>\n",
       "      <th>i94mon</th>\n",
       "      <th>i94cit</th>\n",
       "      <th>i94res</th>\n",
       "      <th>i94port</th>\n",
       "      <th>arrdate</th>\n",
       "      <th>i94mode</th>\n",
       "      <th>i94addr</th>\n",
       "      <th>depdate</th>\n",
       "      <th>...</th>\n",
       "      <th>entdepu</th>\n",
       "      <th>matflag</th>\n",
       "      <th>biryear</th>\n",
       "      <th>dtaddto</th>\n",
       "      <th>gender</th>\n",
       "      <th>insnum</th>\n",
       "      <th>airline</th>\n",
       "      <th>admnum</th>\n",
       "      <th>fltno</th>\n",
       "      <th>visatype</th>\n",
       "    </tr>\n",
       "  </thead>\n",
       "  <tbody>\n",
       "    <tr>\n",
       "      <th>0</th>\n",
       "      <td>5748517.0</td>\n",
       "      <td>2016.0</td>\n",
       "      <td>4.0</td>\n",
       "      <td>245.0</td>\n",
       "      <td>438.0</td>\n",
       "      <td>LOS</td>\n",
       "      <td>20574.0</td>\n",
       "      <td>1.0</td>\n",
       "      <td>CA</td>\n",
       "      <td>20582.0</td>\n",
       "      <td>...</td>\n",
       "      <td>None</td>\n",
       "      <td>M</td>\n",
       "      <td>1976.0</td>\n",
       "      <td>10292016</td>\n",
       "      <td>F</td>\n",
       "      <td>None</td>\n",
       "      <td>QF</td>\n",
       "      <td>9.495387e+10</td>\n",
       "      <td>00011</td>\n",
       "      <td>B1</td>\n",
       "    </tr>\n",
       "    <tr>\n",
       "      <th>1</th>\n",
       "      <td>5748518.0</td>\n",
       "      <td>2016.0</td>\n",
       "      <td>4.0</td>\n",
       "      <td>245.0</td>\n",
       "      <td>438.0</td>\n",
       "      <td>LOS</td>\n",
       "      <td>20574.0</td>\n",
       "      <td>1.0</td>\n",
       "      <td>NV</td>\n",
       "      <td>20591.0</td>\n",
       "      <td>...</td>\n",
       "      <td>None</td>\n",
       "      <td>M</td>\n",
       "      <td>1984.0</td>\n",
       "      <td>10292016</td>\n",
       "      <td>F</td>\n",
       "      <td>None</td>\n",
       "      <td>VA</td>\n",
       "      <td>9.495562e+10</td>\n",
       "      <td>00007</td>\n",
       "      <td>B1</td>\n",
       "    </tr>\n",
       "    <tr>\n",
       "      <th>2</th>\n",
       "      <td>5748519.0</td>\n",
       "      <td>2016.0</td>\n",
       "      <td>4.0</td>\n",
       "      <td>245.0</td>\n",
       "      <td>438.0</td>\n",
       "      <td>LOS</td>\n",
       "      <td>20574.0</td>\n",
       "      <td>1.0</td>\n",
       "      <td>WA</td>\n",
       "      <td>20582.0</td>\n",
       "      <td>...</td>\n",
       "      <td>None</td>\n",
       "      <td>M</td>\n",
       "      <td>1987.0</td>\n",
       "      <td>10292016</td>\n",
       "      <td>M</td>\n",
       "      <td>None</td>\n",
       "      <td>DL</td>\n",
       "      <td>9.495641e+10</td>\n",
       "      <td>00040</td>\n",
       "      <td>B1</td>\n",
       "    </tr>\n",
       "    <tr>\n",
       "      <th>3</th>\n",
       "      <td>5748520.0</td>\n",
       "      <td>2016.0</td>\n",
       "      <td>4.0</td>\n",
       "      <td>245.0</td>\n",
       "      <td>438.0</td>\n",
       "      <td>LOS</td>\n",
       "      <td>20574.0</td>\n",
       "      <td>1.0</td>\n",
       "      <td>WA</td>\n",
       "      <td>20588.0</td>\n",
       "      <td>...</td>\n",
       "      <td>None</td>\n",
       "      <td>M</td>\n",
       "      <td>1987.0</td>\n",
       "      <td>10292016</td>\n",
       "      <td>F</td>\n",
       "      <td>None</td>\n",
       "      <td>DL</td>\n",
       "      <td>9.495645e+10</td>\n",
       "      <td>00040</td>\n",
       "      <td>B1</td>\n",
       "    </tr>\n",
       "    <tr>\n",
       "      <th>4</th>\n",
       "      <td>5748521.0</td>\n",
       "      <td>2016.0</td>\n",
       "      <td>4.0</td>\n",
       "      <td>245.0</td>\n",
       "      <td>438.0</td>\n",
       "      <td>LOS</td>\n",
       "      <td>20574.0</td>\n",
       "      <td>1.0</td>\n",
       "      <td>WA</td>\n",
       "      <td>20588.0</td>\n",
       "      <td>...</td>\n",
       "      <td>None</td>\n",
       "      <td>M</td>\n",
       "      <td>1988.0</td>\n",
       "      <td>10292016</td>\n",
       "      <td>M</td>\n",
       "      <td>None</td>\n",
       "      <td>DL</td>\n",
       "      <td>9.495639e+10</td>\n",
       "      <td>00040</td>\n",
       "      <td>B1</td>\n",
       "    </tr>\n",
       "  </tbody>\n",
       "</table>\n",
       "<p>5 rows × 28 columns</p>\n",
       "</div>"
      ],
      "text/plain": [
       "       cicid   i94yr  i94mon  i94cit  i94res i94port  arrdate  i94mode  \\\n",
       "0  5748517.0  2016.0     4.0   245.0   438.0     LOS  20574.0      1.0   \n",
       "1  5748518.0  2016.0     4.0   245.0   438.0     LOS  20574.0      1.0   \n",
       "2  5748519.0  2016.0     4.0   245.0   438.0     LOS  20574.0      1.0   \n",
       "3  5748520.0  2016.0     4.0   245.0   438.0     LOS  20574.0      1.0   \n",
       "4  5748521.0  2016.0     4.0   245.0   438.0     LOS  20574.0      1.0   \n",
       "\n",
       "  i94addr  depdate   ...     entdepu  matflag  biryear   dtaddto gender  \\\n",
       "0      CA  20582.0   ...        None        M   1976.0  10292016      F   \n",
       "1      NV  20591.0   ...        None        M   1984.0  10292016      F   \n",
       "2      WA  20582.0   ...        None        M   1987.0  10292016      M   \n",
       "3      WA  20588.0   ...        None        M   1987.0  10292016      F   \n",
       "4      WA  20588.0   ...        None        M   1988.0  10292016      M   \n",
       "\n",
       "  insnum airline        admnum  fltno visatype  \n",
       "0   None      QF  9.495387e+10  00011       B1  \n",
       "1   None      VA  9.495562e+10  00007       B1  \n",
       "2   None      DL  9.495641e+10  00040       B1  \n",
       "3   None      DL  9.495645e+10  00040       B1  \n",
       "4   None      DL  9.495639e+10  00040       B1  \n",
       "\n",
       "[5 rows x 28 columns]"
      ]
     },
     "execution_count": 5,
     "metadata": {},
     "output_type": "execute_result"
    }
   ],
   "source": [
    "immigration_df = spark.read.parquet('./sas_data')\n",
    "immigration = immigration_df.limit(5).toPandas()\n",
    "immigration"
   ]
  },
  {
   "cell_type": "markdown",
   "metadata": {
    "editable": true
   },
   "source": [
    "#### 1.3 Load in the airport table"
   ]
  },
  {
   "cell_type": "code",
   "execution_count": 6,
   "metadata": {
    "editable": true
   },
   "outputs": [
    {
     "data": {
      "text/html": [
       "<div>\n",
       "<style scoped>\n",
       "    .dataframe tbody tr th:only-of-type {\n",
       "        vertical-align: middle;\n",
       "    }\n",
       "\n",
       "    .dataframe tbody tr th {\n",
       "        vertical-align: top;\n",
       "    }\n",
       "\n",
       "    .dataframe thead th {\n",
       "        text-align: right;\n",
       "    }\n",
       "</style>\n",
       "<table border=\"1\" class=\"dataframe\">\n",
       "  <thead>\n",
       "    <tr style=\"text-align: right;\">\n",
       "      <th></th>\n",
       "      <th>ident</th>\n",
       "      <th>type</th>\n",
       "      <th>name</th>\n",
       "      <th>elevation_ft</th>\n",
       "      <th>continent</th>\n",
       "      <th>iso_country</th>\n",
       "      <th>iso_region</th>\n",
       "      <th>municipality</th>\n",
       "      <th>gps_code</th>\n",
       "      <th>iata_code</th>\n",
       "      <th>local_code</th>\n",
       "      <th>coordinates</th>\n",
       "    </tr>\n",
       "  </thead>\n",
       "  <tbody>\n",
       "    <tr>\n",
       "      <th>0</th>\n",
       "      <td>00A</td>\n",
       "      <td>heliport</td>\n",
       "      <td>Total Rf Heliport</td>\n",
       "      <td>11</td>\n",
       "      <td>NA</td>\n",
       "      <td>US</td>\n",
       "      <td>US-PA</td>\n",
       "      <td>Bensalem</td>\n",
       "      <td>00A</td>\n",
       "      <td>None</td>\n",
       "      <td>00A</td>\n",
       "      <td>-74.93360137939453, 40.07080078125</td>\n",
       "    </tr>\n",
       "    <tr>\n",
       "      <th>1</th>\n",
       "      <td>00AA</td>\n",
       "      <td>small_airport</td>\n",
       "      <td>Aero B Ranch Airport</td>\n",
       "      <td>3435</td>\n",
       "      <td>NA</td>\n",
       "      <td>US</td>\n",
       "      <td>US-KS</td>\n",
       "      <td>Leoti</td>\n",
       "      <td>00AA</td>\n",
       "      <td>None</td>\n",
       "      <td>00AA</td>\n",
       "      <td>-101.473911, 38.704022</td>\n",
       "    </tr>\n",
       "    <tr>\n",
       "      <th>2</th>\n",
       "      <td>00AK</td>\n",
       "      <td>small_airport</td>\n",
       "      <td>Lowell Field</td>\n",
       "      <td>450</td>\n",
       "      <td>NA</td>\n",
       "      <td>US</td>\n",
       "      <td>US-AK</td>\n",
       "      <td>Anchor Point</td>\n",
       "      <td>00AK</td>\n",
       "      <td>None</td>\n",
       "      <td>00AK</td>\n",
       "      <td>-151.695999146, 59.94919968</td>\n",
       "    </tr>\n",
       "    <tr>\n",
       "      <th>3</th>\n",
       "      <td>00AL</td>\n",
       "      <td>small_airport</td>\n",
       "      <td>Epps Airpark</td>\n",
       "      <td>820</td>\n",
       "      <td>NA</td>\n",
       "      <td>US</td>\n",
       "      <td>US-AL</td>\n",
       "      <td>Harvest</td>\n",
       "      <td>00AL</td>\n",
       "      <td>None</td>\n",
       "      <td>00AL</td>\n",
       "      <td>-86.77030181884766, 34.86479949951172</td>\n",
       "    </tr>\n",
       "    <tr>\n",
       "      <th>4</th>\n",
       "      <td>00AR</td>\n",
       "      <td>closed</td>\n",
       "      <td>Newport Hospital &amp; Clinic Heliport</td>\n",
       "      <td>237</td>\n",
       "      <td>NA</td>\n",
       "      <td>US</td>\n",
       "      <td>US-AR</td>\n",
       "      <td>Newport</td>\n",
       "      <td>None</td>\n",
       "      <td>None</td>\n",
       "      <td>None</td>\n",
       "      <td>-91.254898, 35.6087</td>\n",
       "    </tr>\n",
       "  </tbody>\n",
       "</table>\n",
       "</div>"
      ],
      "text/plain": [
       "  ident           type                                name elevation_ft  \\\n",
       "0   00A       heliport                   Total Rf Heliport           11   \n",
       "1  00AA  small_airport                Aero B Ranch Airport         3435   \n",
       "2  00AK  small_airport                        Lowell Field          450   \n",
       "3  00AL  small_airport                        Epps Airpark          820   \n",
       "4  00AR         closed  Newport Hospital & Clinic Heliport          237   \n",
       "\n",
       "  continent iso_country iso_region  municipality gps_code iata_code  \\\n",
       "0        NA          US      US-PA      Bensalem      00A      None   \n",
       "1        NA          US      US-KS         Leoti     00AA      None   \n",
       "2        NA          US      US-AK  Anchor Point     00AK      None   \n",
       "3        NA          US      US-AL       Harvest     00AL      None   \n",
       "4        NA          US      US-AR       Newport     None      None   \n",
       "\n",
       "  local_code                            coordinates  \n",
       "0        00A     -74.93360137939453, 40.07080078125  \n",
       "1       00AA                 -101.473911, 38.704022  \n",
       "2       00AK            -151.695999146, 59.94919968  \n",
       "3       00AL  -86.77030181884766, 34.86479949951172  \n",
       "4       None                    -91.254898, 35.6087  "
      ]
     },
     "execution_count": 6,
     "metadata": {},
     "output_type": "execute_result"
    }
   ],
   "source": [
    "airport = spark.read.format('csv').options(header='true').option(\"sep\", ',').load('input/airport-codes_csv.csv')\n",
    "airport.limit(5).toPandas()"
   ]
  },
  {
   "cell_type": "markdown",
   "metadata": {
    "editable": true
   },
   "source": [
    "#### 1.4 Load in the demographics table"
   ]
  },
  {
   "cell_type": "code",
   "execution_count": 8,
   "metadata": {
    "editable": true
   },
   "outputs": [
    {
     "data": {
      "text/html": [
       "<div>\n",
       "<style scoped>\n",
       "    .dataframe tbody tr th:only-of-type {\n",
       "        vertical-align: middle;\n",
       "    }\n",
       "\n",
       "    .dataframe tbody tr th {\n",
       "        vertical-align: top;\n",
       "    }\n",
       "\n",
       "    .dataframe thead th {\n",
       "        text-align: right;\n",
       "    }\n",
       "</style>\n",
       "<table border=\"1\" class=\"dataframe\">\n",
       "  <thead>\n",
       "    <tr style=\"text-align: right;\">\n",
       "      <th></th>\n",
       "      <th>City</th>\n",
       "      <th>State</th>\n",
       "      <th>Median Age</th>\n",
       "      <th>Male Population</th>\n",
       "      <th>Female Population</th>\n",
       "      <th>Total Population</th>\n",
       "      <th>Number of Veterans</th>\n",
       "      <th>Foreign-born</th>\n",
       "      <th>Average Household Size</th>\n",
       "      <th>State Code</th>\n",
       "      <th>Race</th>\n",
       "      <th>Count</th>\n",
       "    </tr>\n",
       "  </thead>\n",
       "  <tbody>\n",
       "    <tr>\n",
       "      <th>0</th>\n",
       "      <td>Silver Spring</td>\n",
       "      <td>Maryland</td>\n",
       "      <td>33.8</td>\n",
       "      <td>40601</td>\n",
       "      <td>41862</td>\n",
       "      <td>82463</td>\n",
       "      <td>1562</td>\n",
       "      <td>30908</td>\n",
       "      <td>2.6</td>\n",
       "      <td>MD</td>\n",
       "      <td>Hispanic or Latino</td>\n",
       "      <td>25924</td>\n",
       "    </tr>\n",
       "    <tr>\n",
       "      <th>1</th>\n",
       "      <td>Quincy</td>\n",
       "      <td>Massachusetts</td>\n",
       "      <td>41.0</td>\n",
       "      <td>44129</td>\n",
       "      <td>49500</td>\n",
       "      <td>93629</td>\n",
       "      <td>4147</td>\n",
       "      <td>32935</td>\n",
       "      <td>2.39</td>\n",
       "      <td>MA</td>\n",
       "      <td>White</td>\n",
       "      <td>58723</td>\n",
       "    </tr>\n",
       "    <tr>\n",
       "      <th>2</th>\n",
       "      <td>Hoover</td>\n",
       "      <td>Alabama</td>\n",
       "      <td>38.5</td>\n",
       "      <td>38040</td>\n",
       "      <td>46799</td>\n",
       "      <td>84839</td>\n",
       "      <td>4819</td>\n",
       "      <td>8229</td>\n",
       "      <td>2.58</td>\n",
       "      <td>AL</td>\n",
       "      <td>Asian</td>\n",
       "      <td>4759</td>\n",
       "    </tr>\n",
       "    <tr>\n",
       "      <th>3</th>\n",
       "      <td>Rancho Cucamonga</td>\n",
       "      <td>California</td>\n",
       "      <td>34.5</td>\n",
       "      <td>88127</td>\n",
       "      <td>87105</td>\n",
       "      <td>175232</td>\n",
       "      <td>5821</td>\n",
       "      <td>33878</td>\n",
       "      <td>3.18</td>\n",
       "      <td>CA</td>\n",
       "      <td>Black or African-American</td>\n",
       "      <td>24437</td>\n",
       "    </tr>\n",
       "    <tr>\n",
       "      <th>4</th>\n",
       "      <td>Newark</td>\n",
       "      <td>New Jersey</td>\n",
       "      <td>34.6</td>\n",
       "      <td>138040</td>\n",
       "      <td>143873</td>\n",
       "      <td>281913</td>\n",
       "      <td>5829</td>\n",
       "      <td>86253</td>\n",
       "      <td>2.73</td>\n",
       "      <td>NJ</td>\n",
       "      <td>White</td>\n",
       "      <td>76402</td>\n",
       "    </tr>\n",
       "  </tbody>\n",
       "</table>\n",
       "</div>"
      ],
      "text/plain": [
       "               City          State Median Age Male Population  \\\n",
       "0     Silver Spring       Maryland       33.8           40601   \n",
       "1            Quincy  Massachusetts       41.0           44129   \n",
       "2            Hoover        Alabama       38.5           38040   \n",
       "3  Rancho Cucamonga     California       34.5           88127   \n",
       "4            Newark     New Jersey       34.6          138040   \n",
       "\n",
       "  Female Population Total Population Number of Veterans Foreign-born  \\\n",
       "0             41862            82463               1562        30908   \n",
       "1             49500            93629               4147        32935   \n",
       "2             46799            84839               4819         8229   \n",
       "3             87105           175232               5821        33878   \n",
       "4            143873           281913               5829        86253   \n",
       "\n",
       "  Average Household Size State Code                       Race  Count  \n",
       "0                    2.6         MD         Hispanic or Latino  25924  \n",
       "1                   2.39         MA                      White  58723  \n",
       "2                   2.58         AL                      Asian   4759  \n",
       "3                   3.18         CA  Black or African-American  24437  \n",
       "4                   2.73         NJ                      White  76402  "
      ]
     },
     "execution_count": 8,
     "metadata": {},
     "output_type": "execute_result"
    }
   ],
   "source": [
    "demogra_df = spark.read.format('csv').options(header='true').option(\"sep\", ';').load('input/us-cities-demographics.csv')\n",
    "\n",
    "demogra_df.limit(5).toPandas()"
   ]
  },
  {
   "cell_type": "markdown",
   "metadata": {
    "editable": true
   },
   "source": [
    "#### 1.5 Load in the Global Temperatures table"
   ]
  },
  {
   "cell_type": "code",
   "execution_count": 7,
   "metadata": {
    "editable": true
   },
   "outputs": [
    {
     "data": {
      "text/html": [
       "<div>\n",
       "<style scoped>\n",
       "    .dataframe tbody tr th:only-of-type {\n",
       "        vertical-align: middle;\n",
       "    }\n",
       "\n",
       "    .dataframe tbody tr th {\n",
       "        vertical-align: top;\n",
       "    }\n",
       "\n",
       "    .dataframe thead th {\n",
       "        text-align: right;\n",
       "    }\n",
       "</style>\n",
       "<table border=\"1\" class=\"dataframe\">\n",
       "  <thead>\n",
       "    <tr style=\"text-align: right;\">\n",
       "      <th></th>\n",
       "      <th>dt</th>\n",
       "      <th>AverageTemperature</th>\n",
       "      <th>AverageTemperatureUncertainty</th>\n",
       "      <th>City</th>\n",
       "      <th>Country</th>\n",
       "      <th>Latitude</th>\n",
       "      <th>Longitude</th>\n",
       "    </tr>\n",
       "  </thead>\n",
       "  <tbody>\n",
       "    <tr>\n",
       "      <th>0</th>\n",
       "      <td>1743-11-01</td>\n",
       "      <td>6.068</td>\n",
       "      <td>1.7369999999999999</td>\n",
       "      <td>Århus</td>\n",
       "      <td>Denmark</td>\n",
       "      <td>57.05N</td>\n",
       "      <td>10.33E</td>\n",
       "    </tr>\n",
       "    <tr>\n",
       "      <th>1</th>\n",
       "      <td>1743-12-01</td>\n",
       "      <td>None</td>\n",
       "      <td>None</td>\n",
       "      <td>Århus</td>\n",
       "      <td>Denmark</td>\n",
       "      <td>57.05N</td>\n",
       "      <td>10.33E</td>\n",
       "    </tr>\n",
       "    <tr>\n",
       "      <th>2</th>\n",
       "      <td>1744-01-01</td>\n",
       "      <td>None</td>\n",
       "      <td>None</td>\n",
       "      <td>Århus</td>\n",
       "      <td>Denmark</td>\n",
       "      <td>57.05N</td>\n",
       "      <td>10.33E</td>\n",
       "    </tr>\n",
       "    <tr>\n",
       "      <th>3</th>\n",
       "      <td>1744-02-01</td>\n",
       "      <td>None</td>\n",
       "      <td>None</td>\n",
       "      <td>Århus</td>\n",
       "      <td>Denmark</td>\n",
       "      <td>57.05N</td>\n",
       "      <td>10.33E</td>\n",
       "    </tr>\n",
       "    <tr>\n",
       "      <th>4</th>\n",
       "      <td>1744-03-01</td>\n",
       "      <td>None</td>\n",
       "      <td>None</td>\n",
       "      <td>Århus</td>\n",
       "      <td>Denmark</td>\n",
       "      <td>57.05N</td>\n",
       "      <td>10.33E</td>\n",
       "    </tr>\n",
       "  </tbody>\n",
       "</table>\n",
       "</div>"
      ],
      "text/plain": [
       "           dt AverageTemperature AverageTemperatureUncertainty   City  \\\n",
       "0  1743-11-01              6.068            1.7369999999999999  Århus   \n",
       "1  1743-12-01               None                          None  Århus   \n",
       "2  1744-01-01               None                          None  Århus   \n",
       "3  1744-02-01               None                          None  Århus   \n",
       "4  1744-03-01               None                          None  Århus   \n",
       "\n",
       "   Country Latitude Longitude  \n",
       "0  Denmark   57.05N    10.33E  \n",
       "1  Denmark   57.05N    10.33E  \n",
       "2  Denmark   57.05N    10.33E  \n",
       "3  Denmark   57.05N    10.33E  \n",
       "4  Denmark   57.05N    10.33E  "
      ]
     },
     "execution_count": 7,
     "metadata": {},
     "output_type": "execute_result"
    }
   ],
   "source": [
    "fname = '../../data2/GlobalLandTemperaturesByCity.csv'\n",
    "# temperature = pd.read_csv(fname)\n",
    "temperature = spark.read.format('csv').options(header='true').option(\"sep\", ',').load(fname)\n",
    "\n",
    "temperature.limit(5).toPandas()"
   ]
  },
  {
   "cell_type": "markdown",
   "metadata": {
    "editable": true
   },
   "source": [
    "#### 1.6 Load in the countries code and airport 3 letters code"
   ]
  },
  {
   "cell_type": "code",
   "execution_count": 9,
   "metadata": {
    "editable": true
   },
   "outputs": [
    {
     "data": {
      "text/html": [
       "<div>\n",
       "<style scoped>\n",
       "    .dataframe tbody tr th:only-of-type {\n",
       "        vertical-align: middle;\n",
       "    }\n",
       "\n",
       "    .dataframe tbody tr th {\n",
       "        vertical-align: top;\n",
       "    }\n",
       "\n",
       "    .dataframe thead th {\n",
       "        text-align: right;\n",
       "    }\n",
       "</style>\n",
       "<table border=\"1\" class=\"dataframe\">\n",
       "  <thead>\n",
       "    <tr style=\"text-align: right;\">\n",
       "      <th></th>\n",
       "      <th>Code</th>\n",
       "      <th>Countries</th>\n",
       "    </tr>\n",
       "  </thead>\n",
       "  <tbody>\n",
       "    <tr>\n",
       "      <th>0</th>\n",
       "      <td>582</td>\n",
       "      <td>MEXICO</td>\n",
       "    </tr>\n",
       "    <tr>\n",
       "      <th>1</th>\n",
       "      <td>236</td>\n",
       "      <td>AFGHANISTAN</td>\n",
       "    </tr>\n",
       "    <tr>\n",
       "      <th>2</th>\n",
       "      <td>101</td>\n",
       "      <td>ALBANIA</td>\n",
       "    </tr>\n",
       "    <tr>\n",
       "      <th>3</th>\n",
       "      <td>316</td>\n",
       "      <td>ALGERIA</td>\n",
       "    </tr>\n",
       "    <tr>\n",
       "      <th>4</th>\n",
       "      <td>102</td>\n",
       "      <td>ANDORRA</td>\n",
       "    </tr>\n",
       "  </tbody>\n",
       "</table>\n",
       "</div>"
      ],
      "text/plain": [
       "  Code    Countries\n",
       "0  582      MEXICO \n",
       "1  236  AFGHANISTAN\n",
       "2  101      ALBANIA\n",
       "3  316      ALGERIA\n",
       "4  102      ANDORRA"
      ]
     },
     "execution_count": 9,
     "metadata": {},
     "output_type": "execute_result"
    }
   ],
   "source": [
    "countries = spark.read.format('csv').options(header='true').option(\"sep\", ',').load('input/countries.csv')\n",
    "countries.limit(5).toPandas()"
   ]
  },
  {
   "cell_type": "code",
   "execution_count": 10,
   "metadata": {
    "editable": true
   },
   "outputs": [
    {
     "data": {
      "text/html": [
       "<div>\n",
       "<style scoped>\n",
       "    .dataframe tbody tr th:only-of-type {\n",
       "        vertical-align: middle;\n",
       "    }\n",
       "\n",
       "    .dataframe tbody tr th {\n",
       "        vertical-align: top;\n",
       "    }\n",
       "\n",
       "    .dataframe thead th {\n",
       "        text-align: right;\n",
       "    }\n",
       "</style>\n",
       "<table border=\"1\" class=\"dataframe\">\n",
       "  <thead>\n",
       "    <tr style=\"text-align: right;\">\n",
       "      <th></th>\n",
       "      <th>Code</th>\n",
       "      <th>Airport</th>\n",
       "    </tr>\n",
       "  </thead>\n",
       "  <tbody>\n",
       "    <tr>\n",
       "      <th>0</th>\n",
       "      <td>ALC</td>\n",
       "      <td>ALCAN, AK</td>\n",
       "    </tr>\n",
       "    <tr>\n",
       "      <th>1</th>\n",
       "      <td>ANC</td>\n",
       "      <td>ANCHORAGE, AK</td>\n",
       "    </tr>\n",
       "    <tr>\n",
       "      <th>2</th>\n",
       "      <td>BAR</td>\n",
       "      <td>BAKER AAF - BAKER ISLAND, AK</td>\n",
       "    </tr>\n",
       "    <tr>\n",
       "      <th>3</th>\n",
       "      <td>DAC</td>\n",
       "      <td>DALTONS CACHE, AK</td>\n",
       "    </tr>\n",
       "    <tr>\n",
       "      <th>4</th>\n",
       "      <td>PIZ</td>\n",
       "      <td>DEW STATION PT LAY DEW, AK</td>\n",
       "    </tr>\n",
       "  </tbody>\n",
       "</table>\n",
       "</div>"
      ],
      "text/plain": [
       "  Code                       Airport\n",
       "0  ALC        ALCAN, AK             \n",
       "1  ANC        ANCHORAGE, AK         \n",
       "2  BAR  BAKER AAF - BAKER ISLAND, AK\n",
       "3  DAC        DALTONS CACHE, AK     \n",
       "4  PIZ    DEW STATION PT LAY DEW, AK"
      ]
     },
     "execution_count": 10,
     "metadata": {},
     "output_type": "execute_result"
    }
   ],
   "source": [
    "# airport_code = pd.read_csv('airport.csv')\n",
    "airport_code = spark.read.format('csv').options(header='true').option(\"sep\", ',').load('input/airport.csv')\n",
    "airport_code.limit(5).toPandas()"
   ]
  },
  {
   "cell_type": "markdown",
   "metadata": {
    "editable": true
   },
   "source": [
    "### Step 2: Cleaning tables\n",
    "Check the missing values and unreasonable values in all tables."
   ]
  },
  {
   "cell_type": "markdown",
   "metadata": {
    "editable": true
   },
   "source": [
    "#### 2.1 Clean the airport form"
   ]
  },
  {
   "cell_type": "code",
   "execution_count": 11,
   "metadata": {
    "editable": true
   },
   "outputs": [
    {
     "name": "stdout",
     "output_type": "stream",
     "text": [
      "+-----+----+----+------------+---------+-----------+----------+------------+--------+---------+----------+-----------+\n",
      "|ident|type|name|elevation_ft|continent|iso_country|iso_region|municipality|gps_code|iata_code|local_code|coordinates|\n",
      "+-----+----+----+------------+---------+-----------+----------+------------+--------+---------+----------+-----------+\n",
      "|    0|   0|   0|        7006|        0|          0|         0|        5676|   14045|    45886|     26389|          0|\n",
      "+-----+----+----+------------+---------+-----------+----------+------------+--------+---------+----------+-----------+\n",
      "\n"
     ]
    }
   ],
   "source": [
    "airport.select([count(when(isnan(c) | col(c).isNull(), c)).alias(c) for c in airport.columns]).show()"
   ]
  },
  {
   "cell_type": "markdown",
   "metadata": {
    "editable": true
   },
   "source": [
    "From the table, we could see there are a lot of airport information for different countries, however, what we need to collect is just for US. Therefore, we could drop all other information except US airport info."
   ]
  },
  {
   "cell_type": "code",
   "execution_count": 12,
   "metadata": {
    "editable": true
   },
   "outputs": [
    {
     "name": "stdout",
     "output_type": "stream",
     "text": [
      "+-----------+\n",
      "|iso_country|\n",
      "+-----------+\n",
      "|         US|\n",
      "+-----------+\n",
      "\n"
     ]
    },
    {
     "data": {
      "text/html": [
       "<div>\n",
       "<style scoped>\n",
       "    .dataframe tbody tr th:only-of-type {\n",
       "        vertical-align: middle;\n",
       "    }\n",
       "\n",
       "    .dataframe tbody tr th {\n",
       "        vertical-align: top;\n",
       "    }\n",
       "\n",
       "    .dataframe thead th {\n",
       "        text-align: right;\n",
       "    }\n",
       "</style>\n",
       "<table border=\"1\" class=\"dataframe\">\n",
       "  <thead>\n",
       "    <tr style=\"text-align: right;\">\n",
       "      <th></th>\n",
       "      <th>ident</th>\n",
       "      <th>type</th>\n",
       "      <th>name</th>\n",
       "      <th>elevation_ft</th>\n",
       "      <th>continent</th>\n",
       "      <th>iso_country</th>\n",
       "      <th>iso_region</th>\n",
       "      <th>municipality</th>\n",
       "      <th>gps_code</th>\n",
       "      <th>iata_code</th>\n",
       "      <th>local_code</th>\n",
       "      <th>coordinates</th>\n",
       "    </tr>\n",
       "  </thead>\n",
       "  <tbody>\n",
       "    <tr>\n",
       "      <th>0</th>\n",
       "      <td>00A</td>\n",
       "      <td>heliport</td>\n",
       "      <td>Total Rf Heliport</td>\n",
       "      <td>11</td>\n",
       "      <td>NA</td>\n",
       "      <td>US</td>\n",
       "      <td>US-PA</td>\n",
       "      <td>Bensalem</td>\n",
       "      <td>00A</td>\n",
       "      <td>None</td>\n",
       "      <td>00A</td>\n",
       "      <td>-74.93360137939453, 40.07080078125</td>\n",
       "    </tr>\n",
       "    <tr>\n",
       "      <th>1</th>\n",
       "      <td>00AA</td>\n",
       "      <td>small_airport</td>\n",
       "      <td>Aero B Ranch Airport</td>\n",
       "      <td>3435</td>\n",
       "      <td>NA</td>\n",
       "      <td>US</td>\n",
       "      <td>US-KS</td>\n",
       "      <td>Leoti</td>\n",
       "      <td>00AA</td>\n",
       "      <td>None</td>\n",
       "      <td>00AA</td>\n",
       "      <td>-101.473911, 38.704022</td>\n",
       "    </tr>\n",
       "    <tr>\n",
       "      <th>2</th>\n",
       "      <td>00AK</td>\n",
       "      <td>small_airport</td>\n",
       "      <td>Lowell Field</td>\n",
       "      <td>450</td>\n",
       "      <td>NA</td>\n",
       "      <td>US</td>\n",
       "      <td>US-AK</td>\n",
       "      <td>Anchor Point</td>\n",
       "      <td>00AK</td>\n",
       "      <td>None</td>\n",
       "      <td>00AK</td>\n",
       "      <td>-151.695999146, 59.94919968</td>\n",
       "    </tr>\n",
       "    <tr>\n",
       "      <th>3</th>\n",
       "      <td>00AL</td>\n",
       "      <td>small_airport</td>\n",
       "      <td>Epps Airpark</td>\n",
       "      <td>820</td>\n",
       "      <td>NA</td>\n",
       "      <td>US</td>\n",
       "      <td>US-AL</td>\n",
       "      <td>Harvest</td>\n",
       "      <td>00AL</td>\n",
       "      <td>None</td>\n",
       "      <td>00AL</td>\n",
       "      <td>-86.77030181884766, 34.86479949951172</td>\n",
       "    </tr>\n",
       "    <tr>\n",
       "      <th>4</th>\n",
       "      <td>00AR</td>\n",
       "      <td>closed</td>\n",
       "      <td>Newport Hospital &amp; Clinic Heliport</td>\n",
       "      <td>237</td>\n",
       "      <td>NA</td>\n",
       "      <td>US</td>\n",
       "      <td>US-AR</td>\n",
       "      <td>Newport</td>\n",
       "      <td>None</td>\n",
       "      <td>None</td>\n",
       "      <td>None</td>\n",
       "      <td>-91.254898, 35.6087</td>\n",
       "    </tr>\n",
       "  </tbody>\n",
       "</table>\n",
       "</div>"
      ],
      "text/plain": [
       "  ident           type                                name elevation_ft  \\\n",
       "0   00A       heliport                   Total Rf Heliport           11   \n",
       "1  00AA  small_airport                Aero B Ranch Airport         3435   \n",
       "2  00AK  small_airport                        Lowell Field          450   \n",
       "3  00AL  small_airport                        Epps Airpark          820   \n",
       "4  00AR         closed  Newport Hospital & Clinic Heliport          237   \n",
       "\n",
       "  continent iso_country iso_region  municipality gps_code iata_code  \\\n",
       "0        NA          US      US-PA      Bensalem      00A      None   \n",
       "1        NA          US      US-KS         Leoti     00AA      None   \n",
       "2        NA          US      US-AK  Anchor Point     00AK      None   \n",
       "3        NA          US      US-AL       Harvest     00AL      None   \n",
       "4        NA          US      US-AR       Newport     None      None   \n",
       "\n",
       "  local_code                            coordinates  \n",
       "0        00A     -74.93360137939453, 40.07080078125  \n",
       "1       00AA                 -101.473911, 38.704022  \n",
       "2       00AK            -151.695999146, 59.94919968  \n",
       "3       00AL  -86.77030181884766, 34.86479949951172  \n",
       "4       None                    -91.254898, 35.6087  "
      ]
     },
     "execution_count": 12,
     "metadata": {},
     "output_type": "execute_result"
    }
   ],
   "source": [
    "airport = airport.where(col('iso_country') == 'US')\n",
    "airport.select('iso_country').distinct().show()\n",
    "airport.limit(5).toPandas()"
   ]
  },
  {
   "cell_type": "markdown",
   "metadata": {
    "editable": true
   },
   "source": [
    "Check the type column in this table:"
   ]
  },
  {
   "cell_type": "code",
   "execution_count": 13,
   "metadata": {
    "editable": true
   },
   "outputs": [
    {
     "name": "stdout",
     "output_type": "stream",
     "text": [
      "+--------------+\n",
      "|          type|\n",
      "+--------------+\n",
      "| large_airport|\n",
      "|   balloonport|\n",
      "| seaplane_base|\n",
      "|      heliport|\n",
      "|        closed|\n",
      "|medium_airport|\n",
      "| small_airport|\n",
      "+--------------+\n",
      "\n"
     ]
    }
   ],
   "source": [
    "airport.select('type').distinct().show()"
   ]
  },
  {
   "cell_type": "markdown",
   "metadata": {
    "editable": true
   },
   "source": [
    "Obviously, the balloonport couldn't be shown in the immigration port list, so we will drop the type balloonport. Also the closed ports will not be used any more, we will drop those rows too."
   ]
  },
  {
   "cell_type": "code",
   "execution_count": 14,
   "metadata": {
    "editable": true
   },
   "outputs": [
    {
     "name": "stdout",
     "output_type": "stream",
     "text": [
      "+--------------+\n",
      "|          type|\n",
      "+--------------+\n",
      "| large_airport|\n",
      "| seaplane_base|\n",
      "|      heliport|\n",
      "|medium_airport|\n",
      "| small_airport|\n",
      "+--------------+\n",
      "\n"
     ]
    }
   ],
   "source": [
    "airport = airport.where((col('type') != 'balloonport') & (col('type') != 'closed'))\n",
    "airport.select('type').distinct().show()"
   ]
  },
  {
   "cell_type": "markdown",
   "metadata": {
    "editable": true
   },
   "source": [
    "Because the local_code column is related to the column I94port in immigration table, we need to drop all the NaN values in local_code column."
   ]
  },
  {
   "cell_type": "code",
   "execution_count": 15,
   "metadata": {
    "editable": true
   },
   "outputs": [
    {
     "name": "stdout",
     "output_type": "stream",
     "text": [
      "+-----+----+----+------------+---------+-----------+----------+------------+--------+---------+----------+-----------+\n",
      "|ident|type|name|elevation_ft|continent|iso_country|iso_region|municipality|gps_code|iata_code|local_code|coordinates|\n",
      "+-----+----+----+------------+---------+-----------+----------+------------+--------+---------+----------+-----------+\n",
      "|    0|   0|   0|         149|        0|          0|         0|          13|     290|    19160|         0|          0|\n",
      "+-----+----+----+------------+---------+-----------+----------+------------+--------+---------+----------+-----------+\n",
      "\n"
     ]
    }
   ],
   "source": [
    "airport = airport.where(col('local_code') != 'None')\n",
    "airport.select([count(when(isnan(c) | col(c).isNull(), c)).alias(c) for c in airport.columns]).show()"
   ]
  },
  {
   "cell_type": "markdown",
   "metadata": {
    "editable": true
   },
   "source": [
    "Check the iso_region column to see if there are some strange values."
   ]
  },
  {
   "cell_type": "code",
   "execution_count": 16,
   "metadata": {
    "editable": true
   },
   "outputs": [
    {
     "name": "stdout",
     "output_type": "stream",
     "text": [
      "+----------+-----+\n",
      "|iso_region|count|\n",
      "+----------+-----+\n",
      "|     US-TN|  343|\n",
      "|     US-OK|  464|\n",
      "|     US-VT|  100|\n",
      "|     US-SD|  201|\n",
      "|     US-WA|  556|\n",
      "|     US-IN|  633|\n",
      "|     US-AL|  336|\n",
      "|     US-NY|  600|\n",
      "|     US-MS|  270|\n",
      "|     US-NC|  455|\n",
      "|     US-CT|  157|\n",
      "|     US-MT|  298|\n",
      "|     US-OR|  473|\n",
      "|     US-IA|  321|\n",
      "|     US-NV|  146|\n",
      "|     US-RI|   32|\n",
      "|     US-AK|  783|\n",
      "|     US-WV|  137|\n",
      "|     US-MA|  242|\n",
      "|     US-MD|  240|\n",
      "|     US-AZ|  332|\n",
      "|     US-NH|  170|\n",
      "|     US-DC|   20|\n",
      "|     US-ME|  196|\n",
      "|     US-DE|   54|\n",
      "|     US-OH|  724|\n",
      "|     US-CO|  475|\n",
      "|     US-MN|  512|\n",
      "|     US-GA|  489|\n",
      "|     US-NJ|  401|\n",
      "|     US-CA|  992|\n",
      "|     US-PA|  864|\n",
      "|     US-ID|  293|\n",
      "|     US-ND|  313|\n",
      "|     US-IL|  848|\n",
      "|     US-FL|  899|\n",
      "|     US-KY|  235|\n",
      "|     US-WY|  122|\n",
      "|     US-NM|  186|\n",
      "|     US-MO|  547|\n",
      "|     US-UT|  157|\n",
      "|     US-SC|  211|\n",
      "|     US-KS|  410|\n",
      "|     US-TX| 2052|\n",
      "|     US-WI|  581|\n",
      "|     US-VA|  472|\n",
      "|     US-MI|  505|\n",
      "|     US-AR|  368|\n",
      "|     US-NE|  297|\n",
      "|     US-HI|   53|\n",
      "|     US-LA|  542|\n",
      "+----------+-----+\n",
      "\n"
     ]
    }
   ],
   "source": [
    "airport.groupby('iso_region').count().show(200)"
   ]
  },
  {
   "cell_type": "markdown",
   "metadata": {
    "editable": true
   },
   "source": [
    "The 'US-U-A' might be a mistake, so we drop these rows with 'US-U-A'."
   ]
  },
  {
   "cell_type": "code",
   "execution_count": 17,
   "metadata": {
    "editable": true
   },
   "outputs": [
    {
     "name": "stdout",
     "output_type": "stream",
     "text": [
      "+----------+-----+\n",
      "|iso_region|count|\n",
      "+----------+-----+\n",
      "|        AZ|  332|\n",
      "|        SC|  211|\n",
      "|        LA|  542|\n",
      "|        MN|  512|\n",
      "|        NJ|  401|\n",
      "+----------+-----+\n",
      "only showing top 5 rows\n",
      "\n"
     ]
    }
   ],
   "source": [
    "airport = airport.where(col('iso_region') != 'US-U-A')\n",
    "airport = airport.withColumn('iso_region', regexp_replace('iso_region', 'US-', ''))\n",
    "airport.groupby('iso_region').count().show(5)"
   ]
  },
  {
   "cell_type": "code",
   "execution_count": 18,
   "metadata": {
    "editable": true
   },
   "outputs": [
    {
     "data": {
      "text/html": [
       "<div>\n",
       "<style scoped>\n",
       "    .dataframe tbody tr th:only-of-type {\n",
       "        vertical-align: middle;\n",
       "    }\n",
       "\n",
       "    .dataframe tbody tr th {\n",
       "        vertical-align: top;\n",
       "    }\n",
       "\n",
       "    .dataframe thead th {\n",
       "        text-align: right;\n",
       "    }\n",
       "</style>\n",
       "<table border=\"1\" class=\"dataframe\">\n",
       "  <thead>\n",
       "    <tr style=\"text-align: right;\">\n",
       "      <th></th>\n",
       "      <th>ident</th>\n",
       "      <th>type</th>\n",
       "      <th>name</th>\n",
       "      <th>elevation_ft</th>\n",
       "      <th>continent</th>\n",
       "      <th>iso_country</th>\n",
       "      <th>iso_region</th>\n",
       "      <th>municipality</th>\n",
       "      <th>gps_code</th>\n",
       "      <th>iata_code</th>\n",
       "      <th>local_code</th>\n",
       "      <th>coordinates</th>\n",
       "    </tr>\n",
       "  </thead>\n",
       "  <tbody>\n",
       "    <tr>\n",
       "      <th>0</th>\n",
       "      <td>00A</td>\n",
       "      <td>heliport</td>\n",
       "      <td>Total Rf Heliport</td>\n",
       "      <td>11</td>\n",
       "      <td>NA</td>\n",
       "      <td>US</td>\n",
       "      <td>PA</td>\n",
       "      <td>Bensalem</td>\n",
       "      <td>00A</td>\n",
       "      <td>None</td>\n",
       "      <td>00A</td>\n",
       "      <td>-74.93360137939453, 40.07080078125</td>\n",
       "    </tr>\n",
       "    <tr>\n",
       "      <th>1</th>\n",
       "      <td>00AA</td>\n",
       "      <td>small_airport</td>\n",
       "      <td>Aero B Ranch Airport</td>\n",
       "      <td>3435</td>\n",
       "      <td>NA</td>\n",
       "      <td>US</td>\n",
       "      <td>KS</td>\n",
       "      <td>Leoti</td>\n",
       "      <td>00AA</td>\n",
       "      <td>None</td>\n",
       "      <td>00AA</td>\n",
       "      <td>-101.473911, 38.704022</td>\n",
       "    </tr>\n",
       "    <tr>\n",
       "      <th>2</th>\n",
       "      <td>00AK</td>\n",
       "      <td>small_airport</td>\n",
       "      <td>Lowell Field</td>\n",
       "      <td>450</td>\n",
       "      <td>NA</td>\n",
       "      <td>US</td>\n",
       "      <td>AK</td>\n",
       "      <td>Anchor Point</td>\n",
       "      <td>00AK</td>\n",
       "      <td>None</td>\n",
       "      <td>00AK</td>\n",
       "      <td>-151.695999146, 59.94919968</td>\n",
       "    </tr>\n",
       "    <tr>\n",
       "      <th>3</th>\n",
       "      <td>00AL</td>\n",
       "      <td>small_airport</td>\n",
       "      <td>Epps Airpark</td>\n",
       "      <td>820</td>\n",
       "      <td>NA</td>\n",
       "      <td>US</td>\n",
       "      <td>AL</td>\n",
       "      <td>Harvest</td>\n",
       "      <td>00AL</td>\n",
       "      <td>None</td>\n",
       "      <td>00AL</td>\n",
       "      <td>-86.77030181884766, 34.86479949951172</td>\n",
       "    </tr>\n",
       "    <tr>\n",
       "      <th>4</th>\n",
       "      <td>00AS</td>\n",
       "      <td>small_airport</td>\n",
       "      <td>Fulton Airport</td>\n",
       "      <td>1100</td>\n",
       "      <td>NA</td>\n",
       "      <td>US</td>\n",
       "      <td>OK</td>\n",
       "      <td>Alex</td>\n",
       "      <td>00AS</td>\n",
       "      <td>None</td>\n",
       "      <td>00AS</td>\n",
       "      <td>-97.8180194, 34.9428028</td>\n",
       "    </tr>\n",
       "  </tbody>\n",
       "</table>\n",
       "</div>"
      ],
      "text/plain": [
       "  ident           type                  name elevation_ft continent  \\\n",
       "0   00A       heliport     Total Rf Heliport           11        NA   \n",
       "1  00AA  small_airport  Aero B Ranch Airport         3435        NA   \n",
       "2  00AK  small_airport          Lowell Field          450        NA   \n",
       "3  00AL  small_airport          Epps Airpark          820        NA   \n",
       "4  00AS  small_airport        Fulton Airport         1100        NA   \n",
       "\n",
       "  iso_country iso_region  municipality gps_code iata_code local_code  \\\n",
       "0          US         PA      Bensalem      00A      None        00A   \n",
       "1          US         KS         Leoti     00AA      None       00AA   \n",
       "2          US         AK  Anchor Point     00AK      None       00AK   \n",
       "3          US         AL       Harvest     00AL      None       00AL   \n",
       "4          US         OK          Alex     00AS      None       00AS   \n",
       "\n",
       "                             coordinates  \n",
       "0     -74.93360137939453, 40.07080078125  \n",
       "1                 -101.473911, 38.704022  \n",
       "2            -151.695999146, 59.94919968  \n",
       "3  -86.77030181884766, 34.86479949951172  \n",
       "4                -97.8180194, 34.9428028  "
      ]
     },
     "execution_count": 18,
     "metadata": {},
     "output_type": "execute_result"
    }
   ],
   "source": [
    "airport.limit(5).toPandas()"
   ]
  },
  {
   "cell_type": "markdown",
   "metadata": {
    "editable": true
   },
   "source": [
    "### 2.2 Clean for the demographics table"
   ]
  },
  {
   "cell_type": "code",
   "execution_count": 19,
   "metadata": {
    "editable": true
   },
   "outputs": [
    {
     "data": {
      "text/html": [
       "<div>\n",
       "<style scoped>\n",
       "    .dataframe tbody tr th:only-of-type {\n",
       "        vertical-align: middle;\n",
       "    }\n",
       "\n",
       "    .dataframe tbody tr th {\n",
       "        vertical-align: top;\n",
       "    }\n",
       "\n",
       "    .dataframe thead th {\n",
       "        text-align: right;\n",
       "    }\n",
       "</style>\n",
       "<table border=\"1\" class=\"dataframe\">\n",
       "  <thead>\n",
       "    <tr style=\"text-align: right;\">\n",
       "      <th></th>\n",
       "      <th>City</th>\n",
       "      <th>State</th>\n",
       "      <th>Median Age</th>\n",
       "      <th>Male Population</th>\n",
       "      <th>Female Population</th>\n",
       "      <th>Total Population</th>\n",
       "      <th>Number of Veterans</th>\n",
       "      <th>Foreign-born</th>\n",
       "      <th>Average Household Size</th>\n",
       "      <th>State Code</th>\n",
       "      <th>Race</th>\n",
       "      <th>Count</th>\n",
       "    </tr>\n",
       "  </thead>\n",
       "  <tbody>\n",
       "    <tr>\n",
       "      <th>0</th>\n",
       "      <td>Silver Spring</td>\n",
       "      <td>Maryland</td>\n",
       "      <td>33.8</td>\n",
       "      <td>40601</td>\n",
       "      <td>41862</td>\n",
       "      <td>82463</td>\n",
       "      <td>1562</td>\n",
       "      <td>30908</td>\n",
       "      <td>2.6</td>\n",
       "      <td>MD</td>\n",
       "      <td>Hispanic or Latino</td>\n",
       "      <td>25924</td>\n",
       "    </tr>\n",
       "    <tr>\n",
       "      <th>1</th>\n",
       "      <td>Quincy</td>\n",
       "      <td>Massachusetts</td>\n",
       "      <td>41.0</td>\n",
       "      <td>44129</td>\n",
       "      <td>49500</td>\n",
       "      <td>93629</td>\n",
       "      <td>4147</td>\n",
       "      <td>32935</td>\n",
       "      <td>2.39</td>\n",
       "      <td>MA</td>\n",
       "      <td>White</td>\n",
       "      <td>58723</td>\n",
       "    </tr>\n",
       "    <tr>\n",
       "      <th>2</th>\n",
       "      <td>Hoover</td>\n",
       "      <td>Alabama</td>\n",
       "      <td>38.5</td>\n",
       "      <td>38040</td>\n",
       "      <td>46799</td>\n",
       "      <td>84839</td>\n",
       "      <td>4819</td>\n",
       "      <td>8229</td>\n",
       "      <td>2.58</td>\n",
       "      <td>AL</td>\n",
       "      <td>Asian</td>\n",
       "      <td>4759</td>\n",
       "    </tr>\n",
       "    <tr>\n",
       "      <th>3</th>\n",
       "      <td>Rancho Cucamonga</td>\n",
       "      <td>California</td>\n",
       "      <td>34.5</td>\n",
       "      <td>88127</td>\n",
       "      <td>87105</td>\n",
       "      <td>175232</td>\n",
       "      <td>5821</td>\n",
       "      <td>33878</td>\n",
       "      <td>3.18</td>\n",
       "      <td>CA</td>\n",
       "      <td>Black or African-American</td>\n",
       "      <td>24437</td>\n",
       "    </tr>\n",
       "    <tr>\n",
       "      <th>4</th>\n",
       "      <td>Newark</td>\n",
       "      <td>New Jersey</td>\n",
       "      <td>34.6</td>\n",
       "      <td>138040</td>\n",
       "      <td>143873</td>\n",
       "      <td>281913</td>\n",
       "      <td>5829</td>\n",
       "      <td>86253</td>\n",
       "      <td>2.73</td>\n",
       "      <td>NJ</td>\n",
       "      <td>White</td>\n",
       "      <td>76402</td>\n",
       "    </tr>\n",
       "  </tbody>\n",
       "</table>\n",
       "</div>"
      ],
      "text/plain": [
       "               City          State Median Age Male Population  \\\n",
       "0     Silver Spring       Maryland       33.8           40601   \n",
       "1            Quincy  Massachusetts       41.0           44129   \n",
       "2            Hoover        Alabama       38.5           38040   \n",
       "3  Rancho Cucamonga     California       34.5           88127   \n",
       "4            Newark     New Jersey       34.6          138040   \n",
       "\n",
       "  Female Population Total Population Number of Veterans Foreign-born  \\\n",
       "0             41862            82463               1562        30908   \n",
       "1             49500            93629               4147        32935   \n",
       "2             46799            84839               4819         8229   \n",
       "3             87105           175232               5821        33878   \n",
       "4            143873           281913               5829        86253   \n",
       "\n",
       "  Average Household Size State Code                       Race  Count  \n",
       "0                    2.6         MD         Hispanic or Latino  25924  \n",
       "1                   2.39         MA                      White  58723  \n",
       "2                   2.58         AL                      Asian   4759  \n",
       "3                   3.18         CA  Black or African-American  24437  \n",
       "4                   2.73         NJ                      White  76402  "
      ]
     },
     "execution_count": 19,
     "metadata": {},
     "output_type": "execute_result"
    }
   ],
   "source": [
    "demogra_df.limit(5).toPandas()"
   ]
  },
  {
   "cell_type": "markdown",
   "metadata": {
    "editable": true
   },
   "source": [
    "Modify the type of column Count."
   ]
  },
  {
   "cell_type": "code",
   "execution_count": 20,
   "metadata": {
    "editable": true
   },
   "outputs": [],
   "source": [
    "demogra_df = demogra_df.withColumn(\"Count\",col(\"Count\").cast('int'))"
   ]
  },
  {
   "cell_type": "markdown",
   "metadata": {
    "editable": true
   },
   "source": [
    "We have duplicate rows for City and State column because of the race colum, so we need to pivote the Race column to make the combination of City and State unique."
   ]
  },
  {
   "cell_type": "code",
   "execution_count": 21,
   "metadata": {
    "editable": true
   },
   "outputs": [
    {
     "data": {
      "text/html": [
       "<div>\n",
       "<style scoped>\n",
       "    .dataframe tbody tr th:only-of-type {\n",
       "        vertical-align: middle;\n",
       "    }\n",
       "\n",
       "    .dataframe tbody tr th {\n",
       "        vertical-align: top;\n",
       "    }\n",
       "\n",
       "    .dataframe thead th {\n",
       "        text-align: right;\n",
       "    }\n",
       "</style>\n",
       "<table border=\"1\" class=\"dataframe\">\n",
       "  <thead>\n",
       "    <tr style=\"text-align: right;\">\n",
       "      <th></th>\n",
       "      <th>City</th>\n",
       "      <th>State</th>\n",
       "      <th>State Code</th>\n",
       "      <th>Median Age</th>\n",
       "      <th>Female Population</th>\n",
       "      <th>Male Population</th>\n",
       "      <th>Total Population</th>\n",
       "      <th>Number of Veterans</th>\n",
       "      <th>Foreign-born</th>\n",
       "      <th>Average Household Size</th>\n",
       "      <th>American Indian and Alaska Native</th>\n",
       "      <th>Asian</th>\n",
       "      <th>Black or African-American</th>\n",
       "      <th>Hispanic or Latino</th>\n",
       "      <th>White</th>\n",
       "    </tr>\n",
       "  </thead>\n",
       "  <tbody>\n",
       "    <tr>\n",
       "      <th>0</th>\n",
       "      <td>Union City</td>\n",
       "      <td>California</td>\n",
       "      <td>CA</td>\n",
       "      <td>38.5</td>\n",
       "      <td>35911</td>\n",
       "      <td>38599</td>\n",
       "      <td>74510</td>\n",
       "      <td>1440</td>\n",
       "      <td>32752</td>\n",
       "      <td>3.46</td>\n",
       "      <td>243</td>\n",
       "      <td>44849</td>\n",
       "      <td>5508</td>\n",
       "      <td>13207</td>\n",
       "      <td>16845</td>\n",
       "    </tr>\n",
       "    <tr>\n",
       "      <th>1</th>\n",
       "      <td>Kenner</td>\n",
       "      <td>Louisiana</td>\n",
       "      <td>LA</td>\n",
       "      <td>36.9</td>\n",
       "      <td>33113</td>\n",
       "      <td>33993</td>\n",
       "      <td>67106</td>\n",
       "      <td>2485</td>\n",
       "      <td>12352</td>\n",
       "      <td>2.57</td>\n",
       "      <td>158</td>\n",
       "      <td>2729</td>\n",
       "      <td>17172</td>\n",
       "      <td>17769</td>\n",
       "      <td>44863</td>\n",
       "    </tr>\n",
       "    <tr>\n",
       "      <th>2</th>\n",
       "      <td>Murfreesboro</td>\n",
       "      <td>Tennessee</td>\n",
       "      <td>TN</td>\n",
       "      <td>30.2</td>\n",
       "      <td>65417</td>\n",
       "      <td>60704</td>\n",
       "      <td>126121</td>\n",
       "      <td>5199</td>\n",
       "      <td>8948</td>\n",
       "      <td>2.6</td>\n",
       "      <td>1339</td>\n",
       "      <td>7265</td>\n",
       "      <td>22651</td>\n",
       "      <td>8840</td>\n",
       "      <td>97270</td>\n",
       "    </tr>\n",
       "    <tr>\n",
       "      <th>3</th>\n",
       "      <td>El Cajon</td>\n",
       "      <td>California</td>\n",
       "      <td>CA</td>\n",
       "      <td>32.7</td>\n",
       "      <td>49238</td>\n",
       "      <td>54450</td>\n",
       "      <td>103688</td>\n",
       "      <td>7103</td>\n",
       "      <td>31865</td>\n",
       "      <td>3.14</td>\n",
       "      <td>1891</td>\n",
       "      <td>4561</td>\n",
       "      <td>7534</td>\n",
       "      <td>31542</td>\n",
       "      <td>84703</td>\n",
       "    </tr>\n",
       "    <tr>\n",
       "      <th>4</th>\n",
       "      <td>Brooklyn Park</td>\n",
       "      <td>Minnesota</td>\n",
       "      <td>MN</td>\n",
       "      <td>35.1</td>\n",
       "      <td>41305</td>\n",
       "      <td>37845</td>\n",
       "      <td>79150</td>\n",
       "      <td>3506</td>\n",
       "      <td>17490</td>\n",
       "      <td>2.85</td>\n",
       "      <td>1173</td>\n",
       "      <td>14443</td>\n",
       "      <td>22550</td>\n",
       "      <td>4138</td>\n",
       "      <td>41760</td>\n",
       "    </tr>\n",
       "  </tbody>\n",
       "</table>\n",
       "</div>"
      ],
      "text/plain": [
       "            City       State State Code Median Age Female Population  \\\n",
       "0     Union City  California         CA       38.5             35911   \n",
       "1         Kenner   Louisiana         LA       36.9             33113   \n",
       "2   Murfreesboro   Tennessee         TN       30.2             65417   \n",
       "3       El Cajon  California         CA       32.7             49238   \n",
       "4  Brooklyn Park   Minnesota         MN       35.1             41305   \n",
       "\n",
       "  Male Population Total Population Number of Veterans Foreign-born  \\\n",
       "0           38599            74510               1440        32752   \n",
       "1           33993            67106               2485        12352   \n",
       "2           60704           126121               5199         8948   \n",
       "3           54450           103688               7103        31865   \n",
       "4           37845            79150               3506        17490   \n",
       "\n",
       "  Average Household Size  American Indian and Alaska Native  Asian  \\\n",
       "0                   3.46                                243  44849   \n",
       "1                   2.57                                158   2729   \n",
       "2                    2.6                               1339   7265   \n",
       "3                   3.14                               1891   4561   \n",
       "4                   2.85                               1173  14443   \n",
       "\n",
       "   Black or African-American  Hispanic or Latino  White  \n",
       "0                       5508               13207  16845  \n",
       "1                      17172               17769  44863  \n",
       "2                      22651                8840  97270  \n",
       "3                       7534               31542  84703  \n",
       "4                      22550                4138  41760  "
      ]
     },
     "execution_count": 21,
     "metadata": {},
     "output_type": "execute_result"
    }
   ],
   "source": [
    "index=['City', 'State', 'State Code', 'Median Age', 'Female Population', 'Male Population', 'Total Population', \\\n",
    "              'Number of Veterans', 'Foreign-born', 'Average Household Size']\n",
    "pivot_df = demogra_df.groupBy(index).pivot('Race').sum('Count')\n",
    "pivot_df.limit(5).toPandas()"
   ]
  },
  {
   "cell_type": "markdown",
   "metadata": {
    "editable": true
   },
   "source": [
    "Check the NaN values in this table."
   ]
  },
  {
   "cell_type": "code",
   "execution_count": 22,
   "metadata": {
    "editable": true
   },
   "outputs": [
    {
     "name": "stdout",
     "output_type": "stream",
     "text": [
      "+----+-----+----------+----------+-----------------+---------------+----------------+------------------+------------+----------------------+---------------------------------+-----+-------------------------+------------------+-----+\n",
      "|City|State|State Code|Median Age|Female Population|Male Population|Total Population|Number of Veterans|Foreign-born|Average Household Size|American Indian and Alaska Native|Asian|Black or African-American|Hispanic or Latino|White|\n",
      "+----+-----+----------+----------+-----------------+---------------+----------------+------------------+------------+----------------------+---------------------------------+-----+-------------------------+------------------+-----+\n",
      "|   0|    0|         0|         0|                1|              1|               0|                 7|           7|                     8|                               57|   13|                       12|                 0|    7|\n",
      "+----+-----+----------+----------+-----------------+---------------+----------------+------------------+------------+----------------------+---------------------------------+-----+-------------------------+------------------+-----+\n",
      "\n"
     ]
    }
   ],
   "source": [
    "pivot_df.select([count(when(isnan(c) | col(c).isNull(), c)).alias(c) for c in pivot_df.columns]).show()"
   ]
  },
  {
   "cell_type": "markdown",
   "metadata": {
    "editable": true
   },
   "source": [
    "Luckily, we didn't get many Nan values in this form. We just use 0 to fill all the None values. Also, we need to correct all the types of numbers."
   ]
  },
  {
   "cell_type": "code",
   "execution_count": 23,
   "metadata": {
    "editable": true
   },
   "outputs": [],
   "source": [
    "fill_list = ['Male Population', 'Female Population', 'Number of Veterans', 'Foreign-born', \\\n",
    "        'Average Household Size', 'American Indian and Alaska Native', 'Asian', 'White', \\\n",
    "            'Black or African-American', 'Hispanic or Latino']\n",
    "demogra_df = pivot_df.fillna(0, subset=fill_list)"
   ]
  },
  {
   "cell_type": "code",
   "execution_count": 24,
   "metadata": {
    "editable": true
   },
   "outputs": [
    {
     "data": {
      "text/html": [
       "<div>\n",
       "<style scoped>\n",
       "    .dataframe tbody tr th:only-of-type {\n",
       "        vertical-align: middle;\n",
       "    }\n",
       "\n",
       "    .dataframe tbody tr th {\n",
       "        vertical-align: top;\n",
       "    }\n",
       "\n",
       "    .dataframe thead th {\n",
       "        text-align: right;\n",
       "    }\n",
       "</style>\n",
       "<table border=\"1\" class=\"dataframe\">\n",
       "  <thead>\n",
       "    <tr style=\"text-align: right;\">\n",
       "      <th></th>\n",
       "      <th>City</th>\n",
       "      <th>State</th>\n",
       "      <th>State Code</th>\n",
       "      <th>Median Age</th>\n",
       "      <th>Female Population</th>\n",
       "      <th>Male Population</th>\n",
       "      <th>Total Population</th>\n",
       "      <th>Number of Veterans</th>\n",
       "      <th>Foreign-born</th>\n",
       "      <th>Average Household Size</th>\n",
       "      <th>American Indian and Alaska Native</th>\n",
       "      <th>Asian</th>\n",
       "      <th>Black or African-American</th>\n",
       "      <th>Hispanic or Latino</th>\n",
       "      <th>White</th>\n",
       "    </tr>\n",
       "  </thead>\n",
       "  <tbody>\n",
       "    <tr>\n",
       "      <th>0</th>\n",
       "      <td>Union City</td>\n",
       "      <td>California</td>\n",
       "      <td>CA</td>\n",
       "      <td>38.5</td>\n",
       "      <td>35911</td>\n",
       "      <td>38599</td>\n",
       "      <td>74510</td>\n",
       "      <td>1440</td>\n",
       "      <td>32752</td>\n",
       "      <td>3.46</td>\n",
       "      <td>243</td>\n",
       "      <td>44849</td>\n",
       "      <td>5508</td>\n",
       "      <td>13207</td>\n",
       "      <td>16845</td>\n",
       "    </tr>\n",
       "    <tr>\n",
       "      <th>1</th>\n",
       "      <td>Kenner</td>\n",
       "      <td>Louisiana</td>\n",
       "      <td>LA</td>\n",
       "      <td>36.9</td>\n",
       "      <td>33113</td>\n",
       "      <td>33993</td>\n",
       "      <td>67106</td>\n",
       "      <td>2485</td>\n",
       "      <td>12352</td>\n",
       "      <td>2.57</td>\n",
       "      <td>158</td>\n",
       "      <td>2729</td>\n",
       "      <td>17172</td>\n",
       "      <td>17769</td>\n",
       "      <td>44863</td>\n",
       "    </tr>\n",
       "    <tr>\n",
       "      <th>2</th>\n",
       "      <td>Murfreesboro</td>\n",
       "      <td>Tennessee</td>\n",
       "      <td>TN</td>\n",
       "      <td>30.2</td>\n",
       "      <td>65417</td>\n",
       "      <td>60704</td>\n",
       "      <td>126121</td>\n",
       "      <td>5199</td>\n",
       "      <td>8948</td>\n",
       "      <td>2.6</td>\n",
       "      <td>1339</td>\n",
       "      <td>7265</td>\n",
       "      <td>22651</td>\n",
       "      <td>8840</td>\n",
       "      <td>97270</td>\n",
       "    </tr>\n",
       "    <tr>\n",
       "      <th>3</th>\n",
       "      <td>El Cajon</td>\n",
       "      <td>California</td>\n",
       "      <td>CA</td>\n",
       "      <td>32.7</td>\n",
       "      <td>49238</td>\n",
       "      <td>54450</td>\n",
       "      <td>103688</td>\n",
       "      <td>7103</td>\n",
       "      <td>31865</td>\n",
       "      <td>3.14</td>\n",
       "      <td>1891</td>\n",
       "      <td>4561</td>\n",
       "      <td>7534</td>\n",
       "      <td>31542</td>\n",
       "      <td>84703</td>\n",
       "    </tr>\n",
       "    <tr>\n",
       "      <th>4</th>\n",
       "      <td>Brooklyn Park</td>\n",
       "      <td>Minnesota</td>\n",
       "      <td>MN</td>\n",
       "      <td>35.1</td>\n",
       "      <td>41305</td>\n",
       "      <td>37845</td>\n",
       "      <td>79150</td>\n",
       "      <td>3506</td>\n",
       "      <td>17490</td>\n",
       "      <td>2.85</td>\n",
       "      <td>1173</td>\n",
       "      <td>14443</td>\n",
       "      <td>22550</td>\n",
       "      <td>4138</td>\n",
       "      <td>41760</td>\n",
       "    </tr>\n",
       "  </tbody>\n",
       "</table>\n",
       "</div>"
      ],
      "text/plain": [
       "            City       State State Code Median Age Female Population  \\\n",
       "0     Union City  California         CA       38.5             35911   \n",
       "1         Kenner   Louisiana         LA       36.9             33113   \n",
       "2   Murfreesboro   Tennessee         TN       30.2             65417   \n",
       "3       El Cajon  California         CA       32.7             49238   \n",
       "4  Brooklyn Park   Minnesota         MN       35.1             41305   \n",
       "\n",
       "  Male Population Total Population Number of Veterans Foreign-born  \\\n",
       "0           38599            74510               1440        32752   \n",
       "1           33993            67106               2485        12352   \n",
       "2           60704           126121               5199         8948   \n",
       "3           54450           103688               7103        31865   \n",
       "4           37845            79150               3506        17490   \n",
       "\n",
       "  Average Household Size  American Indian and Alaska Native  Asian  \\\n",
       "0                   3.46                                243  44849   \n",
       "1                   2.57                                158   2729   \n",
       "2                    2.6                               1339   7265   \n",
       "3                   3.14                               1891   4561   \n",
       "4                   2.85                               1173  14443   \n",
       "\n",
       "   Black or African-American  Hispanic or Latino  White  \n",
       "0                       5508               13207  16845  \n",
       "1                      17172               17769  44863  \n",
       "2                      22651                8840  97270  \n",
       "3                       7534               31542  84703  \n",
       "4                      22550                4138  41760  "
      ]
     },
     "execution_count": 24,
     "metadata": {},
     "output_type": "execute_result"
    }
   ],
   "source": [
    "demogra_df.limit(5).toPandas()"
   ]
  },
  {
   "cell_type": "markdown",
   "metadata": {
    "editable": true
   },
   "source": [
    "Modify the types of column in the int_list and float_list."
   ]
  },
  {
   "cell_type": "code",
   "execution_count": 25,
   "metadata": {
    "editable": true
   },
   "outputs": [],
   "source": [
    "int_list = ['Male Population', 'Female Population', 'Number of Veterans', 'Foreign-born', 'Total Population', \\\n",
    "           'American Indian and Alaska Native', 'Asian', 'Black or African-American', 'Hispanic or Latino', 'White']\n",
    "float_list = ['Median Age', 'Average Household Size']\n",
    "\n",
    "for i in int_list:\n",
    "    demogra_df = demogra_df.withColumn(i, col(i).cast('int'))\n",
    "    \n",
    "for j in float_list:\n",
    "    demogra_df = demogra_df.withColumn(j, col(j).cast('float'))"
   ]
  },
  {
   "cell_type": "code",
   "execution_count": 26,
   "metadata": {
    "editable": true
   },
   "outputs": [
    {
     "data": {
      "text/html": [
       "<div>\n",
       "<style scoped>\n",
       "    .dataframe tbody tr th:only-of-type {\n",
       "        vertical-align: middle;\n",
       "    }\n",
       "\n",
       "    .dataframe tbody tr th {\n",
       "        vertical-align: top;\n",
       "    }\n",
       "\n",
       "    .dataframe thead th {\n",
       "        text-align: right;\n",
       "    }\n",
       "</style>\n",
       "<table border=\"1\" class=\"dataframe\">\n",
       "  <thead>\n",
       "    <tr style=\"text-align: right;\">\n",
       "      <th></th>\n",
       "      <th>City</th>\n",
       "      <th>State</th>\n",
       "      <th>State Code</th>\n",
       "      <th>Median Age</th>\n",
       "      <th>Female Population</th>\n",
       "      <th>Male Population</th>\n",
       "      <th>Total Population</th>\n",
       "      <th>Number of Veterans</th>\n",
       "      <th>Foreign-born</th>\n",
       "      <th>Average Household Size</th>\n",
       "      <th>American Indian and Alaska Native</th>\n",
       "      <th>Asian</th>\n",
       "      <th>Black or African-American</th>\n",
       "      <th>Hispanic or Latino</th>\n",
       "      <th>White</th>\n",
       "    </tr>\n",
       "  </thead>\n",
       "  <tbody>\n",
       "    <tr>\n",
       "      <th>0</th>\n",
       "      <td>Union City</td>\n",
       "      <td>California</td>\n",
       "      <td>CA</td>\n",
       "      <td>38.500000</td>\n",
       "      <td>35911</td>\n",
       "      <td>38599</td>\n",
       "      <td>74510</td>\n",
       "      <td>1440</td>\n",
       "      <td>32752</td>\n",
       "      <td>3.46</td>\n",
       "      <td>243</td>\n",
       "      <td>44849</td>\n",
       "      <td>5508</td>\n",
       "      <td>13207</td>\n",
       "      <td>16845</td>\n",
       "    </tr>\n",
       "    <tr>\n",
       "      <th>1</th>\n",
       "      <td>Kenner</td>\n",
       "      <td>Louisiana</td>\n",
       "      <td>LA</td>\n",
       "      <td>36.900002</td>\n",
       "      <td>33113</td>\n",
       "      <td>33993</td>\n",
       "      <td>67106</td>\n",
       "      <td>2485</td>\n",
       "      <td>12352</td>\n",
       "      <td>2.57</td>\n",
       "      <td>158</td>\n",
       "      <td>2729</td>\n",
       "      <td>17172</td>\n",
       "      <td>17769</td>\n",
       "      <td>44863</td>\n",
       "    </tr>\n",
       "    <tr>\n",
       "      <th>2</th>\n",
       "      <td>Murfreesboro</td>\n",
       "      <td>Tennessee</td>\n",
       "      <td>TN</td>\n",
       "      <td>30.200001</td>\n",
       "      <td>65417</td>\n",
       "      <td>60704</td>\n",
       "      <td>126121</td>\n",
       "      <td>5199</td>\n",
       "      <td>8948</td>\n",
       "      <td>2.60</td>\n",
       "      <td>1339</td>\n",
       "      <td>7265</td>\n",
       "      <td>22651</td>\n",
       "      <td>8840</td>\n",
       "      <td>97270</td>\n",
       "    </tr>\n",
       "    <tr>\n",
       "      <th>3</th>\n",
       "      <td>El Cajon</td>\n",
       "      <td>California</td>\n",
       "      <td>CA</td>\n",
       "      <td>32.700001</td>\n",
       "      <td>49238</td>\n",
       "      <td>54450</td>\n",
       "      <td>103688</td>\n",
       "      <td>7103</td>\n",
       "      <td>31865</td>\n",
       "      <td>3.14</td>\n",
       "      <td>1891</td>\n",
       "      <td>4561</td>\n",
       "      <td>7534</td>\n",
       "      <td>31542</td>\n",
       "      <td>84703</td>\n",
       "    </tr>\n",
       "    <tr>\n",
       "      <th>4</th>\n",
       "      <td>Brooklyn Park</td>\n",
       "      <td>Minnesota</td>\n",
       "      <td>MN</td>\n",
       "      <td>35.099998</td>\n",
       "      <td>41305</td>\n",
       "      <td>37845</td>\n",
       "      <td>79150</td>\n",
       "      <td>3506</td>\n",
       "      <td>17490</td>\n",
       "      <td>2.85</td>\n",
       "      <td>1173</td>\n",
       "      <td>14443</td>\n",
       "      <td>22550</td>\n",
       "      <td>4138</td>\n",
       "      <td>41760</td>\n",
       "    </tr>\n",
       "  </tbody>\n",
       "</table>\n",
       "</div>"
      ],
      "text/plain": [
       "            City       State State Code  Median Age  Female Population  \\\n",
       "0     Union City  California         CA   38.500000              35911   \n",
       "1         Kenner   Louisiana         LA   36.900002              33113   \n",
       "2   Murfreesboro   Tennessee         TN   30.200001              65417   \n",
       "3       El Cajon  California         CA   32.700001              49238   \n",
       "4  Brooklyn Park   Minnesota         MN   35.099998              41305   \n",
       "\n",
       "   Male Population  Total Population  Number of Veterans  Foreign-born  \\\n",
       "0            38599             74510                1440         32752   \n",
       "1            33993             67106                2485         12352   \n",
       "2            60704            126121                5199          8948   \n",
       "3            54450            103688                7103         31865   \n",
       "4            37845             79150                3506         17490   \n",
       "\n",
       "   Average Household Size  American Indian and Alaska Native  Asian  \\\n",
       "0                    3.46                                243  44849   \n",
       "1                    2.57                                158   2729   \n",
       "2                    2.60                               1339   7265   \n",
       "3                    3.14                               1891   4561   \n",
       "4                    2.85                               1173  14443   \n",
       "\n",
       "   Black or African-American  Hispanic or Latino  White  \n",
       "0                       5508               13207  16845  \n",
       "1                      17172               17769  44863  \n",
       "2                      22651                8840  97270  \n",
       "3                       7534               31542  84703  \n",
       "4                      22550                4138  41760  "
      ]
     },
     "execution_count": 26,
     "metadata": {},
     "output_type": "execute_result"
    }
   ],
   "source": [
    "demogra_df.limit(5).toPandas()"
   ]
  },
  {
   "cell_type": "markdown",
   "metadata": {
    "editable": true
   },
   "source": [
    "### 2.3 Clean the Temperature table"
   ]
  },
  {
   "cell_type": "code",
   "execution_count": 27,
   "metadata": {
    "editable": true
   },
   "outputs": [
    {
     "data": {
      "text/plain": [
       "[Row(dt='1743-11-01', AverageTemperature='6.068', AverageTemperatureUncertainty='1.7369999999999999', City='Århus', Country='Denmark', Latitude='57.05N', Longitude='10.33E'),\n",
       " Row(dt='1743-12-01', AverageTemperature=None, AverageTemperatureUncertainty=None, City='Århus', Country='Denmark', Latitude='57.05N', Longitude='10.33E'),\n",
       " Row(dt='1744-01-01', AverageTemperature=None, AverageTemperatureUncertainty=None, City='Århus', Country='Denmark', Latitude='57.05N', Longitude='10.33E'),\n",
       " Row(dt='1744-02-01', AverageTemperature=None, AverageTemperatureUncertainty=None, City='Århus', Country='Denmark', Latitude='57.05N', Longitude='10.33E'),\n",
       " Row(dt='1744-03-01', AverageTemperature=None, AverageTemperatureUncertainty=None, City='Århus', Country='Denmark', Latitude='57.05N', Longitude='10.33E')]"
      ]
     },
     "execution_count": 27,
     "metadata": {},
     "output_type": "execute_result"
    }
   ],
   "source": [
    "temperature.head(5)"
   ]
  },
  {
   "cell_type": "markdown",
   "metadata": {
    "editable": true
   },
   "source": [
    "From the table above, we could see the time for the information is quite early. Let's check the latest date for this form."
   ]
  },
  {
   "cell_type": "code",
   "execution_count": 28,
   "metadata": {
    "editable": true
   },
   "outputs": [
    {
     "data": {
      "text/plain": [
       "'2013-09-01'"
      ]
     },
     "execution_count": 28,
     "metadata": {},
     "output_type": "execute_result"
    }
   ],
   "source": [
    "temperature.agg({\"dt\": \"max\"}).collect()[0][0]"
   ]
  },
  {
   "cell_type": "markdown",
   "metadata": {
    "editable": true
   },
   "source": [
    "The latest date is '2013-09-01', however, out immigration data is for 2016. What we could do is collecting the average temperature in a year for each country, then use the average temperature to do analysis."
   ]
  },
  {
   "cell_type": "code",
   "execution_count": 29,
   "metadata": {
    "editable": true
   },
   "outputs": [],
   "source": [
    "temperature = temperature.groupby([\"Country\"]).agg(\n",
    "        {\"AverageTemperature\": \"avg\", \"Latitude\": \"first\", \"Longitude\": \"first\"})\\\n",
    "        .withColumnRenamed('avg(AverageTemperature)', 'avg_temperature')\\\n",
    "        .withColumnRenamed('first(Latitude)', 'latitude')\\\n",
    "        .withColumnRenamed('first(Longitude)', 'longitude')"
   ]
  },
  {
   "cell_type": "markdown",
   "metadata": {
    "editable": true
   },
   "source": [
    "Change all the city and country information to be upper case."
   ]
  },
  {
   "cell_type": "code",
   "execution_count": 30,
   "metadata": {
    "editable": true
   },
   "outputs": [
    {
     "data": {
      "text/html": [
       "<div>\n",
       "<style scoped>\n",
       "    .dataframe tbody tr th:only-of-type {\n",
       "        vertical-align: middle;\n",
       "    }\n",
       "\n",
       "    .dataframe tbody tr th {\n",
       "        vertical-align: top;\n",
       "    }\n",
       "\n",
       "    .dataframe thead th {\n",
       "        text-align: right;\n",
       "    }\n",
       "</style>\n",
       "<table border=\"1\" class=\"dataframe\">\n",
       "  <thead>\n",
       "    <tr style=\"text-align: right;\">\n",
       "      <th></th>\n",
       "      <th>Country</th>\n",
       "      <th>avg_temperature</th>\n",
       "      <th>latitude</th>\n",
       "      <th>longitude</th>\n",
       "    </tr>\n",
       "  </thead>\n",
       "  <tbody>\n",
       "    <tr>\n",
       "      <th>0</th>\n",
       "      <td>CHAD</td>\n",
       "      <td>27.189829</td>\n",
       "      <td>8.84N</td>\n",
       "      <td>15.41E</td>\n",
       "    </tr>\n",
       "    <tr>\n",
       "      <th>1</th>\n",
       "      <td>PARAGUAY</td>\n",
       "      <td>22.784014</td>\n",
       "      <td>24.92S</td>\n",
       "      <td>58.52W</td>\n",
       "    </tr>\n",
       "    <tr>\n",
       "      <th>2</th>\n",
       "      <td>RUSSIA</td>\n",
       "      <td>3.347268</td>\n",
       "      <td>53.84N</td>\n",
       "      <td>91.36E</td>\n",
       "    </tr>\n",
       "    <tr>\n",
       "      <th>3</th>\n",
       "      <td>YEMEN</td>\n",
       "      <td>25.768408</td>\n",
       "      <td>13.66N</td>\n",
       "      <td>45.41E</td>\n",
       "    </tr>\n",
       "    <tr>\n",
       "      <th>4</th>\n",
       "      <td>SENEGAL</td>\n",
       "      <td>25.984177</td>\n",
       "      <td>15.27N</td>\n",
       "      <td>17.50W</td>\n",
       "    </tr>\n",
       "  </tbody>\n",
       "</table>\n",
       "</div>"
      ],
      "text/plain": [
       "    Country  avg_temperature latitude longitude\n",
       "0      CHAD        27.189829    8.84N    15.41E\n",
       "1  PARAGUAY        22.784014   24.92S    58.52W\n",
       "2    RUSSIA         3.347268   53.84N    91.36E\n",
       "3     YEMEN        25.768408   13.66N    45.41E\n",
       "4   SENEGAL        25.984177   15.27N    17.50W"
      ]
     },
     "execution_count": 30,
     "metadata": {},
     "output_type": "execute_result"
    }
   ],
   "source": [
    "temperature = temperature.withColumn('Country', upper(col('Country')))\n",
    "temperature.limit(5).toPandas()"
   ]
  },
  {
   "cell_type": "markdown",
   "metadata": {
    "editable": true
   },
   "source": [
    "### 2.4 Clean the country and airport table"
   ]
  },
  {
   "cell_type": "code",
   "execution_count": 31,
   "metadata": {
    "editable": true
   },
   "outputs": [
    {
     "data": {
      "text/html": [
       "<div>\n",
       "<style scoped>\n",
       "    .dataframe tbody tr th:only-of-type {\n",
       "        vertical-align: middle;\n",
       "    }\n",
       "\n",
       "    .dataframe tbody tr th {\n",
       "        vertical-align: top;\n",
       "    }\n",
       "\n",
       "    .dataframe thead th {\n",
       "        text-align: right;\n",
       "    }\n",
       "</style>\n",
       "<table border=\"1\" class=\"dataframe\">\n",
       "  <thead>\n",
       "    <tr style=\"text-align: right;\">\n",
       "      <th></th>\n",
       "      <th>Code</th>\n",
       "      <th>Countries</th>\n",
       "    </tr>\n",
       "  </thead>\n",
       "  <tbody>\n",
       "    <tr>\n",
       "      <th>0</th>\n",
       "      <td>582</td>\n",
       "      <td>MEXICO</td>\n",
       "    </tr>\n",
       "    <tr>\n",
       "      <th>1</th>\n",
       "      <td>236</td>\n",
       "      <td>AFGHANISTAN</td>\n",
       "    </tr>\n",
       "    <tr>\n",
       "      <th>2</th>\n",
       "      <td>101</td>\n",
       "      <td>ALBANIA</td>\n",
       "    </tr>\n",
       "    <tr>\n",
       "      <th>3</th>\n",
       "      <td>316</td>\n",
       "      <td>ALGERIA</td>\n",
       "    </tr>\n",
       "    <tr>\n",
       "      <th>4</th>\n",
       "      <td>102</td>\n",
       "      <td>ANDORRA</td>\n",
       "    </tr>\n",
       "  </tbody>\n",
       "</table>\n",
       "</div>"
      ],
      "text/plain": [
       "  Code    Countries\n",
       "0  582      MEXICO \n",
       "1  236  AFGHANISTAN\n",
       "2  101      ALBANIA\n",
       "3  316      ALGERIA\n",
       "4  102      ANDORRA"
      ]
     },
     "execution_count": 31,
     "metadata": {},
     "output_type": "execute_result"
    }
   ],
   "source": [
    "countries.limit(5).toPandas()"
   ]
  },
  {
   "cell_type": "markdown",
   "metadata": {
    "editable": true
   },
   "source": [
    "Modify the types of the columns in countries code table and 3 letters aorport code table."
   ]
  },
  {
   "cell_type": "code",
   "execution_count": 32,
   "metadata": {
    "editable": true
   },
   "outputs": [],
   "source": [
    "countries = countries.withColumn('Code', col('Code').cast('int'))\n",
    "countries = countries.withColumn('Countries', col('Countries').cast('string'))"
   ]
  },
  {
   "cell_type": "code",
   "execution_count": 33,
   "metadata": {
    "editable": true
   },
   "outputs": [
    {
     "data": {
      "text/html": [
       "<div>\n",
       "<style scoped>\n",
       "    .dataframe tbody tr th:only-of-type {\n",
       "        vertical-align: middle;\n",
       "    }\n",
       "\n",
       "    .dataframe tbody tr th {\n",
       "        vertical-align: top;\n",
       "    }\n",
       "\n",
       "    .dataframe thead th {\n",
       "        text-align: right;\n",
       "    }\n",
       "</style>\n",
       "<table border=\"1\" class=\"dataframe\">\n",
       "  <thead>\n",
       "    <tr style=\"text-align: right;\">\n",
       "      <th></th>\n",
       "      <th>Code</th>\n",
       "      <th>Airport</th>\n",
       "    </tr>\n",
       "  </thead>\n",
       "  <tbody>\n",
       "    <tr>\n",
       "      <th>0</th>\n",
       "      <td>ALC</td>\n",
       "      <td>ALCAN, AK</td>\n",
       "    </tr>\n",
       "    <tr>\n",
       "      <th>1</th>\n",
       "      <td>ANC</td>\n",
       "      <td>ANCHORAGE, AK</td>\n",
       "    </tr>\n",
       "    <tr>\n",
       "      <th>2</th>\n",
       "      <td>BAR</td>\n",
       "      <td>BAKER AAF - BAKER ISLAND, AK</td>\n",
       "    </tr>\n",
       "    <tr>\n",
       "      <th>3</th>\n",
       "      <td>DAC</td>\n",
       "      <td>DALTONS CACHE, AK</td>\n",
       "    </tr>\n",
       "    <tr>\n",
       "      <th>4</th>\n",
       "      <td>PIZ</td>\n",
       "      <td>DEW STATION PT LAY DEW, AK</td>\n",
       "    </tr>\n",
       "  </tbody>\n",
       "</table>\n",
       "</div>"
      ],
      "text/plain": [
       "  Code                       Airport\n",
       "0  ALC        ALCAN, AK             \n",
       "1  ANC        ANCHORAGE, AK         \n",
       "2  BAR  BAKER AAF - BAKER ISLAND, AK\n",
       "3  DAC        DALTONS CACHE, AK     \n",
       "4  PIZ    DEW STATION PT LAY DEW, AK"
      ]
     },
     "execution_count": 33,
     "metadata": {},
     "output_type": "execute_result"
    }
   ],
   "source": [
    "airport_code = airport_code.withColumn('Code', col('Code').cast('string'))\n",
    "airport_code = airport_code.withColumn('Airport', col('Airport').cast('string'))\n",
    "airport_code.limit(5).toPandas()"
   ]
  },
  {
   "cell_type": "markdown",
   "metadata": {
    "editable": true
   },
   "source": [
    "### 2.5 Clean for the immigration table"
   ]
  },
  {
   "cell_type": "code",
   "execution_count": 34,
   "metadata": {
    "editable": true
   },
   "outputs": [
    {
     "data": {
      "text/html": [
       "<div>\n",
       "<style scoped>\n",
       "    .dataframe tbody tr th:only-of-type {\n",
       "        vertical-align: middle;\n",
       "    }\n",
       "\n",
       "    .dataframe tbody tr th {\n",
       "        vertical-align: top;\n",
       "    }\n",
       "\n",
       "    .dataframe thead th {\n",
       "        text-align: right;\n",
       "    }\n",
       "</style>\n",
       "<table border=\"1\" class=\"dataframe\">\n",
       "  <thead>\n",
       "    <tr style=\"text-align: right;\">\n",
       "      <th></th>\n",
       "      <th>cicid</th>\n",
       "      <th>i94yr</th>\n",
       "      <th>i94mon</th>\n",
       "      <th>i94cit</th>\n",
       "      <th>i94res</th>\n",
       "      <th>i94port</th>\n",
       "      <th>arrdate</th>\n",
       "      <th>i94mode</th>\n",
       "      <th>i94addr</th>\n",
       "      <th>depdate</th>\n",
       "      <th>...</th>\n",
       "      <th>entdepu</th>\n",
       "      <th>matflag</th>\n",
       "      <th>biryear</th>\n",
       "      <th>dtaddto</th>\n",
       "      <th>gender</th>\n",
       "      <th>insnum</th>\n",
       "      <th>airline</th>\n",
       "      <th>admnum</th>\n",
       "      <th>fltno</th>\n",
       "      <th>visatype</th>\n",
       "    </tr>\n",
       "  </thead>\n",
       "  <tbody>\n",
       "    <tr>\n",
       "      <th>0</th>\n",
       "      <td>5748517.0</td>\n",
       "      <td>2016.0</td>\n",
       "      <td>4.0</td>\n",
       "      <td>245.0</td>\n",
       "      <td>438.0</td>\n",
       "      <td>LOS</td>\n",
       "      <td>20574.0</td>\n",
       "      <td>1.0</td>\n",
       "      <td>CA</td>\n",
       "      <td>20582.0</td>\n",
       "      <td>...</td>\n",
       "      <td>None</td>\n",
       "      <td>M</td>\n",
       "      <td>1976.0</td>\n",
       "      <td>10292016</td>\n",
       "      <td>F</td>\n",
       "      <td>None</td>\n",
       "      <td>QF</td>\n",
       "      <td>9.495387e+10</td>\n",
       "      <td>00011</td>\n",
       "      <td>B1</td>\n",
       "    </tr>\n",
       "    <tr>\n",
       "      <th>1</th>\n",
       "      <td>5748518.0</td>\n",
       "      <td>2016.0</td>\n",
       "      <td>4.0</td>\n",
       "      <td>245.0</td>\n",
       "      <td>438.0</td>\n",
       "      <td>LOS</td>\n",
       "      <td>20574.0</td>\n",
       "      <td>1.0</td>\n",
       "      <td>NV</td>\n",
       "      <td>20591.0</td>\n",
       "      <td>...</td>\n",
       "      <td>None</td>\n",
       "      <td>M</td>\n",
       "      <td>1984.0</td>\n",
       "      <td>10292016</td>\n",
       "      <td>F</td>\n",
       "      <td>None</td>\n",
       "      <td>VA</td>\n",
       "      <td>9.495562e+10</td>\n",
       "      <td>00007</td>\n",
       "      <td>B1</td>\n",
       "    </tr>\n",
       "    <tr>\n",
       "      <th>2</th>\n",
       "      <td>5748519.0</td>\n",
       "      <td>2016.0</td>\n",
       "      <td>4.0</td>\n",
       "      <td>245.0</td>\n",
       "      <td>438.0</td>\n",
       "      <td>LOS</td>\n",
       "      <td>20574.0</td>\n",
       "      <td>1.0</td>\n",
       "      <td>WA</td>\n",
       "      <td>20582.0</td>\n",
       "      <td>...</td>\n",
       "      <td>None</td>\n",
       "      <td>M</td>\n",
       "      <td>1987.0</td>\n",
       "      <td>10292016</td>\n",
       "      <td>M</td>\n",
       "      <td>None</td>\n",
       "      <td>DL</td>\n",
       "      <td>9.495641e+10</td>\n",
       "      <td>00040</td>\n",
       "      <td>B1</td>\n",
       "    </tr>\n",
       "    <tr>\n",
       "      <th>3</th>\n",
       "      <td>5748520.0</td>\n",
       "      <td>2016.0</td>\n",
       "      <td>4.0</td>\n",
       "      <td>245.0</td>\n",
       "      <td>438.0</td>\n",
       "      <td>LOS</td>\n",
       "      <td>20574.0</td>\n",
       "      <td>1.0</td>\n",
       "      <td>WA</td>\n",
       "      <td>20588.0</td>\n",
       "      <td>...</td>\n",
       "      <td>None</td>\n",
       "      <td>M</td>\n",
       "      <td>1987.0</td>\n",
       "      <td>10292016</td>\n",
       "      <td>F</td>\n",
       "      <td>None</td>\n",
       "      <td>DL</td>\n",
       "      <td>9.495645e+10</td>\n",
       "      <td>00040</td>\n",
       "      <td>B1</td>\n",
       "    </tr>\n",
       "    <tr>\n",
       "      <th>4</th>\n",
       "      <td>5748521.0</td>\n",
       "      <td>2016.0</td>\n",
       "      <td>4.0</td>\n",
       "      <td>245.0</td>\n",
       "      <td>438.0</td>\n",
       "      <td>LOS</td>\n",
       "      <td>20574.0</td>\n",
       "      <td>1.0</td>\n",
       "      <td>WA</td>\n",
       "      <td>20588.0</td>\n",
       "      <td>...</td>\n",
       "      <td>None</td>\n",
       "      <td>M</td>\n",
       "      <td>1988.0</td>\n",
       "      <td>10292016</td>\n",
       "      <td>M</td>\n",
       "      <td>None</td>\n",
       "      <td>DL</td>\n",
       "      <td>9.495639e+10</td>\n",
       "      <td>00040</td>\n",
       "      <td>B1</td>\n",
       "    </tr>\n",
       "  </tbody>\n",
       "</table>\n",
       "<p>5 rows × 28 columns</p>\n",
       "</div>"
      ],
      "text/plain": [
       "       cicid   i94yr  i94mon  i94cit  i94res i94port  arrdate  i94mode  \\\n",
       "0  5748517.0  2016.0     4.0   245.0   438.0     LOS  20574.0      1.0   \n",
       "1  5748518.0  2016.0     4.0   245.0   438.0     LOS  20574.0      1.0   \n",
       "2  5748519.0  2016.0     4.0   245.0   438.0     LOS  20574.0      1.0   \n",
       "3  5748520.0  2016.0     4.0   245.0   438.0     LOS  20574.0      1.0   \n",
       "4  5748521.0  2016.0     4.0   245.0   438.0     LOS  20574.0      1.0   \n",
       "\n",
       "  i94addr  depdate   ...     entdepu  matflag  biryear   dtaddto gender  \\\n",
       "0      CA  20582.0   ...        None        M   1976.0  10292016      F   \n",
       "1      NV  20591.0   ...        None        M   1984.0  10292016      F   \n",
       "2      WA  20582.0   ...        None        M   1987.0  10292016      M   \n",
       "3      WA  20588.0   ...        None        M   1987.0  10292016      F   \n",
       "4      WA  20588.0   ...        None        M   1988.0  10292016      M   \n",
       "\n",
       "  insnum airline        admnum  fltno visatype  \n",
       "0   None      QF  9.495387e+10  00011       B1  \n",
       "1   None      VA  9.495562e+10  00007       B1  \n",
       "2   None      DL  9.495641e+10  00040       B1  \n",
       "3   None      DL  9.495645e+10  00040       B1  \n",
       "4   None      DL  9.495639e+10  00040       B1  \n",
       "\n",
       "[5 rows x 28 columns]"
      ]
     },
     "execution_count": 34,
     "metadata": {},
     "output_type": "execute_result"
    }
   ],
   "source": [
    "immigration_df.limit(5).toPandas()"
   ]
  },
  {
   "cell_type": "markdown",
   "metadata": {
    "editable": true
   },
   "source": [
    "Drop all the NaN values in columns: i94port, i94addr, gender"
   ]
  },
  {
   "cell_type": "code",
   "execution_count": 35,
   "metadata": {
    "editable": true
   },
   "outputs": [
    {
     "data": {
      "text/plain": [
       "DataFrame[cicid: double, i94yr: double, i94mon: double, i94cit: double, i94res: double, i94port: string, arrdate: double, i94mode: double, i94addr: string, depdate: double, i94bir: double, i94visa: double, count: double, dtadfile: string, visapost: string, occup: string, entdepa: string, entdepd: string, entdepu: string, matflag: string, biryear: double, dtaddto: string, gender: string, insnum: string, airline: string, admnum: double, fltno: string, visatype: string]"
      ]
     },
     "execution_count": 35,
     "metadata": {},
     "output_type": "execute_result"
    }
   ],
   "source": [
    "immigration_df = immigration_df.dropna(how=\"any\", subset=[\"i94port\", \"i94addr\", \"gender\"])\n",
    "immigration_df"
   ]
  },
  {
   "cell_type": "markdown",
   "metadata": {
    "editable": true
   },
   "source": [
    "Because there are too many columns in the immigration table. Drop some unuseful columns."
   ]
  },
  {
   "cell_type": "code",
   "execution_count": 36,
   "metadata": {
    "editable": true
   },
   "outputs": [
    {
     "data": {
      "text/plain": [
       "DataFrame[cicid: double, i94yr: double, i94mon: double, i94cit: double, i94res: double, i94port: string, arrdate: double, i94mode: double, i94addr: string, depdate: double, i94bir: double, i94visa: double, entdepa: string, biryear: double, gender: string, airline: string, fltno: string, visatype: string]"
      ]
     },
     "execution_count": 36,
     "metadata": {},
     "output_type": "execute_result"
    }
   ],
   "source": [
    "immigration_df = immigration_df.drop('entdepu', 'entdepd', 'count', 'dtadfile', 'visapost', 'matflag', \\\n",
    "                                    'dtaddto', 'insnum', 'admnum', 'occup')\n",
    "immigration_df"
   ]
  },
  {
   "cell_type": "markdown",
   "metadata": {
    "editable": true
   },
   "source": [
    "This means the cicid is unique for each row."
   ]
  },
  {
   "cell_type": "code",
   "execution_count": 37,
   "metadata": {
    "editable": true
   },
   "outputs": [
    {
     "data": {
      "text/html": [
       "<div>\n",
       "<style scoped>\n",
       "    .dataframe tbody tr th:only-of-type {\n",
       "        vertical-align: middle;\n",
       "    }\n",
       "\n",
       "    .dataframe tbody tr th {\n",
       "        vertical-align: top;\n",
       "    }\n",
       "\n",
       "    .dataframe thead th {\n",
       "        text-align: right;\n",
       "    }\n",
       "</style>\n",
       "<table border=\"1\" class=\"dataframe\">\n",
       "  <thead>\n",
       "    <tr style=\"text-align: right;\">\n",
       "      <th></th>\n",
       "      <th>cicid</th>\n",
       "      <th>i94yr</th>\n",
       "      <th>i94mon</th>\n",
       "      <th>i94cit</th>\n",
       "      <th>i94res</th>\n",
       "      <th>i94port</th>\n",
       "      <th>arrdate</th>\n",
       "      <th>i94mode</th>\n",
       "      <th>i94addr</th>\n",
       "      <th>depdate</th>\n",
       "      <th>i94bir</th>\n",
       "      <th>i94visa</th>\n",
       "      <th>entdepa</th>\n",
       "      <th>biryear</th>\n",
       "      <th>gender</th>\n",
       "      <th>airline</th>\n",
       "      <th>fltno</th>\n",
       "      <th>visatype</th>\n",
       "    </tr>\n",
       "  </thead>\n",
       "  <tbody>\n",
       "    <tr>\n",
       "      <th>0</th>\n",
       "      <td>5748517.0</td>\n",
       "      <td>2016.0</td>\n",
       "      <td>4.0</td>\n",
       "      <td>245.0</td>\n",
       "      <td>438.0</td>\n",
       "      <td>LOS</td>\n",
       "      <td>20574.0</td>\n",
       "      <td>1.0</td>\n",
       "      <td>CA</td>\n",
       "      <td>20582.0</td>\n",
       "      <td>40.0</td>\n",
       "      <td>1.0</td>\n",
       "      <td>G</td>\n",
       "      <td>1976.0</td>\n",
       "      <td>F</td>\n",
       "      <td>QF</td>\n",
       "      <td>00011</td>\n",
       "      <td>B1</td>\n",
       "    </tr>\n",
       "    <tr>\n",
       "      <th>1</th>\n",
       "      <td>5748518.0</td>\n",
       "      <td>2016.0</td>\n",
       "      <td>4.0</td>\n",
       "      <td>245.0</td>\n",
       "      <td>438.0</td>\n",
       "      <td>LOS</td>\n",
       "      <td>20574.0</td>\n",
       "      <td>1.0</td>\n",
       "      <td>NV</td>\n",
       "      <td>20591.0</td>\n",
       "      <td>32.0</td>\n",
       "      <td>1.0</td>\n",
       "      <td>G</td>\n",
       "      <td>1984.0</td>\n",
       "      <td>F</td>\n",
       "      <td>VA</td>\n",
       "      <td>00007</td>\n",
       "      <td>B1</td>\n",
       "    </tr>\n",
       "    <tr>\n",
       "      <th>2</th>\n",
       "      <td>5748519.0</td>\n",
       "      <td>2016.0</td>\n",
       "      <td>4.0</td>\n",
       "      <td>245.0</td>\n",
       "      <td>438.0</td>\n",
       "      <td>LOS</td>\n",
       "      <td>20574.0</td>\n",
       "      <td>1.0</td>\n",
       "      <td>WA</td>\n",
       "      <td>20582.0</td>\n",
       "      <td>29.0</td>\n",
       "      <td>1.0</td>\n",
       "      <td>G</td>\n",
       "      <td>1987.0</td>\n",
       "      <td>M</td>\n",
       "      <td>DL</td>\n",
       "      <td>00040</td>\n",
       "      <td>B1</td>\n",
       "    </tr>\n",
       "    <tr>\n",
       "      <th>3</th>\n",
       "      <td>5748520.0</td>\n",
       "      <td>2016.0</td>\n",
       "      <td>4.0</td>\n",
       "      <td>245.0</td>\n",
       "      <td>438.0</td>\n",
       "      <td>LOS</td>\n",
       "      <td>20574.0</td>\n",
       "      <td>1.0</td>\n",
       "      <td>WA</td>\n",
       "      <td>20588.0</td>\n",
       "      <td>29.0</td>\n",
       "      <td>1.0</td>\n",
       "      <td>G</td>\n",
       "      <td>1987.0</td>\n",
       "      <td>F</td>\n",
       "      <td>DL</td>\n",
       "      <td>00040</td>\n",
       "      <td>B1</td>\n",
       "    </tr>\n",
       "    <tr>\n",
       "      <th>4</th>\n",
       "      <td>5748521.0</td>\n",
       "      <td>2016.0</td>\n",
       "      <td>4.0</td>\n",
       "      <td>245.0</td>\n",
       "      <td>438.0</td>\n",
       "      <td>LOS</td>\n",
       "      <td>20574.0</td>\n",
       "      <td>1.0</td>\n",
       "      <td>WA</td>\n",
       "      <td>20588.0</td>\n",
       "      <td>28.0</td>\n",
       "      <td>1.0</td>\n",
       "      <td>G</td>\n",
       "      <td>1988.0</td>\n",
       "      <td>M</td>\n",
       "      <td>DL</td>\n",
       "      <td>00040</td>\n",
       "      <td>B1</td>\n",
       "    </tr>\n",
       "  </tbody>\n",
       "</table>\n",
       "</div>"
      ],
      "text/plain": [
       "       cicid   i94yr  i94mon  i94cit  i94res i94port  arrdate  i94mode  \\\n",
       "0  5748517.0  2016.0     4.0   245.0   438.0     LOS  20574.0      1.0   \n",
       "1  5748518.0  2016.0     4.0   245.0   438.0     LOS  20574.0      1.0   \n",
       "2  5748519.0  2016.0     4.0   245.0   438.0     LOS  20574.0      1.0   \n",
       "3  5748520.0  2016.0     4.0   245.0   438.0     LOS  20574.0      1.0   \n",
       "4  5748521.0  2016.0     4.0   245.0   438.0     LOS  20574.0      1.0   \n",
       "\n",
       "  i94addr  depdate  i94bir  i94visa entdepa  biryear gender airline  fltno  \\\n",
       "0      CA  20582.0    40.0      1.0       G   1976.0      F      QF  00011   \n",
       "1      NV  20591.0    32.0      1.0       G   1984.0      F      VA  00007   \n",
       "2      WA  20582.0    29.0      1.0       G   1987.0      M      DL  00040   \n",
       "3      WA  20588.0    29.0      1.0       G   1987.0      F      DL  00040   \n",
       "4      WA  20588.0    28.0      1.0       G   1988.0      M      DL  00040   \n",
       "\n",
       "  visatype  \n",
       "0       B1  \n",
       "1       B1  \n",
       "2       B1  \n",
       "3       B1  \n",
       "4       B1  "
      ]
     },
     "execution_count": 37,
     "metadata": {},
     "output_type": "execute_result"
    }
   ],
   "source": [
    "immigration_df.limit(5).toPandas()"
   ]
  },
  {
   "cell_type": "markdown",
   "metadata": {
    "editable": true
   },
   "source": [
    "In this table, some numbers should be int, but float in table, next step, we need to change the type of these numbers."
   ]
  },
  {
   "cell_type": "code",
   "execution_count": 38,
   "metadata": {
    "editable": true
   },
   "outputs": [
    {
     "data": {
      "text/plain": [
       "DataFrame[cicid: int, i94yr: int, i94mon: int, i94cit: int, i94res: int, i94port: string, arrdate: int, i94mode: int, i94addr: string, depdate: int, i94bir: int, i94visa: int, entdepa: string, biryear: int, gender: string, airline: string, fltno: string, visatype: string]"
      ]
     },
     "execution_count": 38,
     "metadata": {},
     "output_type": "execute_result"
    }
   ],
   "source": [
    "immigration_df = immigration_df.withColumn(\"cicid\",col(\"cicid\").cast('int'))\\\n",
    "                                .withColumn(\"i94yr\",col(\"i94yr\").cast('int'))\\\n",
    "                                .withColumn(\"i94mon\",col(\"i94mon\").cast('int'))\\\n",
    "                                .withColumn(\"i94cit\",col(\"i94cit\").cast('int'))\\\n",
    "                                .withColumn(\"i94res\",col(\"i94res\").cast('int'))\\\n",
    "                                .withColumn(\"arrdate\",col(\"arrdate\").cast('int'))\\\n",
    "                                .withColumn(\"i94mode\",col(\"i94mode\").cast('int'))\\\n",
    "                                .withColumn(\"depdate\",col(\"depdate\").cast('int'))\\\n",
    "                                .withColumn(\"i94bir\",col(\"i94bir\").cast('int'))\\\n",
    "                                .withColumn(\"i94visa\",col(\"i94visa\").cast('int'))\\\n",
    "                                .withColumn(\"biryear\",col(\"biryear\").cast('int'))\n",
    "immigration_df"
   ]
  },
  {
   "cell_type": "code",
   "execution_count": 39,
   "metadata": {
    "editable": true
   },
   "outputs": [
    {
     "data": {
      "text/html": [
       "<div>\n",
       "<style scoped>\n",
       "    .dataframe tbody tr th:only-of-type {\n",
       "        vertical-align: middle;\n",
       "    }\n",
       "\n",
       "    .dataframe tbody tr th {\n",
       "        vertical-align: top;\n",
       "    }\n",
       "\n",
       "    .dataframe thead th {\n",
       "        text-align: right;\n",
       "    }\n",
       "</style>\n",
       "<table border=\"1\" class=\"dataframe\">\n",
       "  <thead>\n",
       "    <tr style=\"text-align: right;\">\n",
       "      <th></th>\n",
       "      <th>cicid</th>\n",
       "      <th>i94yr</th>\n",
       "      <th>i94mon</th>\n",
       "      <th>i94cit</th>\n",
       "      <th>i94res</th>\n",
       "      <th>i94port</th>\n",
       "      <th>arrdate</th>\n",
       "      <th>i94mode</th>\n",
       "      <th>i94addr</th>\n",
       "      <th>depdate</th>\n",
       "      <th>i94bir</th>\n",
       "      <th>i94visa</th>\n",
       "      <th>entdepa</th>\n",
       "      <th>biryear</th>\n",
       "      <th>gender</th>\n",
       "      <th>airline</th>\n",
       "      <th>fltno</th>\n",
       "      <th>visatype</th>\n",
       "    </tr>\n",
       "  </thead>\n",
       "  <tbody>\n",
       "    <tr>\n",
       "      <th>0</th>\n",
       "      <td>5748517</td>\n",
       "      <td>2016</td>\n",
       "      <td>4</td>\n",
       "      <td>245</td>\n",
       "      <td>438</td>\n",
       "      <td>LOS</td>\n",
       "      <td>20574</td>\n",
       "      <td>1</td>\n",
       "      <td>CA</td>\n",
       "      <td>20582</td>\n",
       "      <td>40</td>\n",
       "      <td>1</td>\n",
       "      <td>G</td>\n",
       "      <td>1976</td>\n",
       "      <td>F</td>\n",
       "      <td>QF</td>\n",
       "      <td>00011</td>\n",
       "      <td>B1</td>\n",
       "    </tr>\n",
       "    <tr>\n",
       "      <th>1</th>\n",
       "      <td>5748518</td>\n",
       "      <td>2016</td>\n",
       "      <td>4</td>\n",
       "      <td>245</td>\n",
       "      <td>438</td>\n",
       "      <td>LOS</td>\n",
       "      <td>20574</td>\n",
       "      <td>1</td>\n",
       "      <td>NV</td>\n",
       "      <td>20591</td>\n",
       "      <td>32</td>\n",
       "      <td>1</td>\n",
       "      <td>G</td>\n",
       "      <td>1984</td>\n",
       "      <td>F</td>\n",
       "      <td>VA</td>\n",
       "      <td>00007</td>\n",
       "      <td>B1</td>\n",
       "    </tr>\n",
       "    <tr>\n",
       "      <th>2</th>\n",
       "      <td>5748519</td>\n",
       "      <td>2016</td>\n",
       "      <td>4</td>\n",
       "      <td>245</td>\n",
       "      <td>438</td>\n",
       "      <td>LOS</td>\n",
       "      <td>20574</td>\n",
       "      <td>1</td>\n",
       "      <td>WA</td>\n",
       "      <td>20582</td>\n",
       "      <td>29</td>\n",
       "      <td>1</td>\n",
       "      <td>G</td>\n",
       "      <td>1987</td>\n",
       "      <td>M</td>\n",
       "      <td>DL</td>\n",
       "      <td>00040</td>\n",
       "      <td>B1</td>\n",
       "    </tr>\n",
       "    <tr>\n",
       "      <th>3</th>\n",
       "      <td>5748520</td>\n",
       "      <td>2016</td>\n",
       "      <td>4</td>\n",
       "      <td>245</td>\n",
       "      <td>438</td>\n",
       "      <td>LOS</td>\n",
       "      <td>20574</td>\n",
       "      <td>1</td>\n",
       "      <td>WA</td>\n",
       "      <td>20588</td>\n",
       "      <td>29</td>\n",
       "      <td>1</td>\n",
       "      <td>G</td>\n",
       "      <td>1987</td>\n",
       "      <td>F</td>\n",
       "      <td>DL</td>\n",
       "      <td>00040</td>\n",
       "      <td>B1</td>\n",
       "    </tr>\n",
       "    <tr>\n",
       "      <th>4</th>\n",
       "      <td>5748521</td>\n",
       "      <td>2016</td>\n",
       "      <td>4</td>\n",
       "      <td>245</td>\n",
       "      <td>438</td>\n",
       "      <td>LOS</td>\n",
       "      <td>20574</td>\n",
       "      <td>1</td>\n",
       "      <td>WA</td>\n",
       "      <td>20588</td>\n",
       "      <td>28</td>\n",
       "      <td>1</td>\n",
       "      <td>G</td>\n",
       "      <td>1988</td>\n",
       "      <td>M</td>\n",
       "      <td>DL</td>\n",
       "      <td>00040</td>\n",
       "      <td>B1</td>\n",
       "    </tr>\n",
       "  </tbody>\n",
       "</table>\n",
       "</div>"
      ],
      "text/plain": [
       "     cicid  i94yr  i94mon  i94cit  i94res i94port  arrdate  i94mode i94addr  \\\n",
       "0  5748517   2016       4     245     438     LOS    20574        1      CA   \n",
       "1  5748518   2016       4     245     438     LOS    20574        1      NV   \n",
       "2  5748519   2016       4     245     438     LOS    20574        1      WA   \n",
       "3  5748520   2016       4     245     438     LOS    20574        1      WA   \n",
       "4  5748521   2016       4     245     438     LOS    20574        1      WA   \n",
       "\n",
       "   depdate  i94bir  i94visa entdepa  biryear gender airline  fltno visatype  \n",
       "0    20582      40        1       G     1976      F      QF  00011       B1  \n",
       "1    20591      32        1       G     1984      F      VA  00007       B1  \n",
       "2    20582      29        1       G     1987      M      DL  00040       B1  \n",
       "3    20588      29        1       G     1987      F      DL  00040       B1  \n",
       "4    20588      28        1       G     1988      M      DL  00040       B1  "
      ]
     },
     "execution_count": 39,
     "metadata": {},
     "output_type": "execute_result"
    }
   ],
   "source": [
    "immigration_df.limit(5).toPandas()"
   ]
  },
  {
   "cell_type": "markdown",
   "metadata": {
    "editable": true
   },
   "source": [
    "Modify the type of the arrdate and depdate columns to datetime."
   ]
  },
  {
   "cell_type": "code",
   "execution_count": 40,
   "metadata": {
    "editable": true
   },
   "outputs": [],
   "source": [
    "@udf(StringType())\n",
    "def convert_datetime(x):\n",
    "    if x:\n",
    "        return (datetime(1960, 1, 1).date() + timedelta(x)).isoformat()\n",
    "    return None"
   ]
  },
  {
   "cell_type": "code",
   "execution_count": 41,
   "metadata": {
    "editable": true
   },
   "outputs": [],
   "source": [
    "immigration_df = immigration_df.withColumn(\"arrdate\", convert_datetime(immigration_df.arrdate))"
   ]
  },
  {
   "cell_type": "code",
   "execution_count": 42,
   "metadata": {
    "editable": true
   },
   "outputs": [],
   "source": [
    "immigration_df = immigration_df.withColumn(\"depdate\", convert_datetime(immigration_df.depdate))"
   ]
  },
  {
   "cell_type": "code",
   "execution_count": 43,
   "metadata": {
    "editable": true
   },
   "outputs": [
    {
     "data": {
      "text/html": [
       "<div>\n",
       "<style scoped>\n",
       "    .dataframe tbody tr th:only-of-type {\n",
       "        vertical-align: middle;\n",
       "    }\n",
       "\n",
       "    .dataframe tbody tr th {\n",
       "        vertical-align: top;\n",
       "    }\n",
       "\n",
       "    .dataframe thead th {\n",
       "        text-align: right;\n",
       "    }\n",
       "</style>\n",
       "<table border=\"1\" class=\"dataframe\">\n",
       "  <thead>\n",
       "    <tr style=\"text-align: right;\">\n",
       "      <th></th>\n",
       "      <th>cicid</th>\n",
       "      <th>i94yr</th>\n",
       "      <th>i94mon</th>\n",
       "      <th>i94cit</th>\n",
       "      <th>i94res</th>\n",
       "      <th>i94port</th>\n",
       "      <th>arrdate</th>\n",
       "      <th>i94mode</th>\n",
       "      <th>i94addr</th>\n",
       "      <th>depdate</th>\n",
       "      <th>i94bir</th>\n",
       "      <th>i94visa</th>\n",
       "      <th>entdepa</th>\n",
       "      <th>biryear</th>\n",
       "      <th>gender</th>\n",
       "      <th>airline</th>\n",
       "      <th>fltno</th>\n",
       "      <th>visatype</th>\n",
       "    </tr>\n",
       "  </thead>\n",
       "  <tbody>\n",
       "    <tr>\n",
       "      <th>0</th>\n",
       "      <td>5748517</td>\n",
       "      <td>2016</td>\n",
       "      <td>4</td>\n",
       "      <td>245</td>\n",
       "      <td>438</td>\n",
       "      <td>LOS</td>\n",
       "      <td>2016-04-30</td>\n",
       "      <td>1</td>\n",
       "      <td>CA</td>\n",
       "      <td>2016-05-08</td>\n",
       "      <td>40</td>\n",
       "      <td>1</td>\n",
       "      <td>G</td>\n",
       "      <td>1976</td>\n",
       "      <td>F</td>\n",
       "      <td>QF</td>\n",
       "      <td>00011</td>\n",
       "      <td>B1</td>\n",
       "    </tr>\n",
       "    <tr>\n",
       "      <th>1</th>\n",
       "      <td>5748518</td>\n",
       "      <td>2016</td>\n",
       "      <td>4</td>\n",
       "      <td>245</td>\n",
       "      <td>438</td>\n",
       "      <td>LOS</td>\n",
       "      <td>2016-04-30</td>\n",
       "      <td>1</td>\n",
       "      <td>NV</td>\n",
       "      <td>2016-05-17</td>\n",
       "      <td>32</td>\n",
       "      <td>1</td>\n",
       "      <td>G</td>\n",
       "      <td>1984</td>\n",
       "      <td>F</td>\n",
       "      <td>VA</td>\n",
       "      <td>00007</td>\n",
       "      <td>B1</td>\n",
       "    </tr>\n",
       "    <tr>\n",
       "      <th>2</th>\n",
       "      <td>5748519</td>\n",
       "      <td>2016</td>\n",
       "      <td>4</td>\n",
       "      <td>245</td>\n",
       "      <td>438</td>\n",
       "      <td>LOS</td>\n",
       "      <td>2016-04-30</td>\n",
       "      <td>1</td>\n",
       "      <td>WA</td>\n",
       "      <td>2016-05-08</td>\n",
       "      <td>29</td>\n",
       "      <td>1</td>\n",
       "      <td>G</td>\n",
       "      <td>1987</td>\n",
       "      <td>M</td>\n",
       "      <td>DL</td>\n",
       "      <td>00040</td>\n",
       "      <td>B1</td>\n",
       "    </tr>\n",
       "    <tr>\n",
       "      <th>3</th>\n",
       "      <td>5748520</td>\n",
       "      <td>2016</td>\n",
       "      <td>4</td>\n",
       "      <td>245</td>\n",
       "      <td>438</td>\n",
       "      <td>LOS</td>\n",
       "      <td>2016-04-30</td>\n",
       "      <td>1</td>\n",
       "      <td>WA</td>\n",
       "      <td>2016-05-14</td>\n",
       "      <td>29</td>\n",
       "      <td>1</td>\n",
       "      <td>G</td>\n",
       "      <td>1987</td>\n",
       "      <td>F</td>\n",
       "      <td>DL</td>\n",
       "      <td>00040</td>\n",
       "      <td>B1</td>\n",
       "    </tr>\n",
       "    <tr>\n",
       "      <th>4</th>\n",
       "      <td>5748521</td>\n",
       "      <td>2016</td>\n",
       "      <td>4</td>\n",
       "      <td>245</td>\n",
       "      <td>438</td>\n",
       "      <td>LOS</td>\n",
       "      <td>2016-04-30</td>\n",
       "      <td>1</td>\n",
       "      <td>WA</td>\n",
       "      <td>2016-05-14</td>\n",
       "      <td>28</td>\n",
       "      <td>1</td>\n",
       "      <td>G</td>\n",
       "      <td>1988</td>\n",
       "      <td>M</td>\n",
       "      <td>DL</td>\n",
       "      <td>00040</td>\n",
       "      <td>B1</td>\n",
       "    </tr>\n",
       "  </tbody>\n",
       "</table>\n",
       "</div>"
      ],
      "text/plain": [
       "     cicid  i94yr  i94mon  i94cit  i94res i94port     arrdate  i94mode  \\\n",
       "0  5748517   2016       4     245     438     LOS  2016-04-30        1   \n",
       "1  5748518   2016       4     245     438     LOS  2016-04-30        1   \n",
       "2  5748519   2016       4     245     438     LOS  2016-04-30        1   \n",
       "3  5748520   2016       4     245     438     LOS  2016-04-30        1   \n",
       "4  5748521   2016       4     245     438     LOS  2016-04-30        1   \n",
       "\n",
       "  i94addr     depdate  i94bir  i94visa entdepa  biryear gender airline  fltno  \\\n",
       "0      CA  2016-05-08      40        1       G     1976      F      QF  00011   \n",
       "1      NV  2016-05-17      32        1       G     1984      F      VA  00007   \n",
       "2      WA  2016-05-08      29        1       G     1987      M      DL  00040   \n",
       "3      WA  2016-05-14      29        1       G     1987      F      DL  00040   \n",
       "4      WA  2016-05-14      28        1       G     1988      M      DL  00040   \n",
       "\n",
       "  visatype  \n",
       "0       B1  \n",
       "1       B1  \n",
       "2       B1  \n",
       "3       B1  \n",
       "4       B1  "
      ]
     },
     "execution_count": 43,
     "metadata": {},
     "output_type": "execute_result"
    }
   ],
   "source": [
    "immigration_df.limit(5).toPandas()"
   ]
  },
  {
   "cell_type": "markdown",
   "metadata": {
    "editable": true
   },
   "source": [
    "### Step 3: Define the Data Model\n",
    "#### 3.1 Conceptual Data Model\n",
    "The immigration table includes a lot of information and we also have other forms which have deatil information about some colums in Immigration table. Here, we choose to use star schema to build a model.  \n",
    "\n",
    "This star schema will include a fact table: **immigration**, and 4 dimension tables: **countries, demographics, airports**.   \n",
    "\n",
    "**Fact table: fact_immigration**  \n",
    "- cicid  \n",
    "- i94yr  \n",
    "- i94mon  \n",
    "- i94cit (Foreign Key - countries)  \n",
    "- i94res  \n",
    "- i94port (Foreign Key - airports)  \n",
    "- arrdate  \n",
    "- i94mode  \n",
    "- i94addr (Foreign Key - demographics)\n",
    "- depdate  \n",
    "- i94bir  \n",
    "- i94visa  \n",
    "- entdepa  \n",
    "- biryear\n",
    "- gender  \n",
    "- airline\n",
    "- fltno  \n",
    "- visatype  \n",
    "\n",
    "**Dimension Tables**  \n",
    "**dim_countries**  \n",
    "- code (Froeign Key)\n",
    "- Country  \n",
    "- AverageTemperature   \n",
    "- AverageTemperatureUncertainty  \n",
    "\n",
    "**dim_demographics**  \n",
    "- City  \n",
    "- State  \n",
    "- Median  \n",
    "- Age  \n",
    "- Male  \n",
    "- Population  \n",
    "- Female_Population  \n",
    "- Male_Population\n",
    "- Total_Population  \n",
    "- Number_Veterans  \n",
    "- Foreign_born  \n",
    "- AverageHouseholdSize  \n",
    "- State_Code  (Foreign Key)\n",
    "- AmericanIndian_AlaskaNative  \n",
    "- Black_AfricanAmerican  \n",
    "- Hispanic_Latino  \n",
    "- Asia  \n",
    "- White    \n",
    "\n",
    "**dim_airports**\n",
    "- ident  \n",
    "- type  \n",
    "- name  \n",
    "- elevation_ft  \n",
    "- continent  \n",
    "- iso_country  \n",
    "- iso_region  \n",
    "- municipality  \n",
    "- gps_code  \n",
    "- iata_code  \n",
    "- local_code (Foreign Key) \n",
    "- coordinates   \n",
    "\n",
    "#### 3.2 Mapping Out Data Pipelines\n",
    "1. Load in all the tables we will use.  \n",
    "2. Clean all the tables by dealing with missing, duplicate data or check for the unreasonable data.\n",
    "3. Create 3 diemnsion tables: dim_countries, dim_demographics and dim_airports.  \n",
    "4. Create the fact table: fact_immigration which is combining all the foreign keys in the dimention tables.\n",
    "5. Save fact and dimention table in parquet. \n",
    "6. Check the data quality."
   ]
  },
  {
   "cell_type": "markdown",
   "metadata": {
    "editable": true
   },
   "source": [
    "### Step 4: Run Pipelines to Model the Data \n",
    "#### 4.1 Create the data model\n",
    "**Create the dimension table: dim_demographics**"
   ]
  },
  {
   "cell_type": "code",
   "execution_count": 47,
   "metadata": {
    "editable": true
   },
   "outputs": [],
   "source": [
    "def create_dim_demographics(spark, demogra_df):\n",
    "    \"\"\"Clean the demogra_df table and create the dim_demographics\n",
    "    \n",
    "    Keyword arguments:\n",
    "    * Spark --       Spark working session\n",
    "    * demogra_df --  input table\n",
    "\n",
    "    \n",
    "    Output:\n",
    "    * demographics.parquet \n",
    "    \n",
    "    \"\"\"\n",
    "    # change the type of column Count to pivote the Race column\n",
    "    demogra_df = demogra_df.withColumn(\"Count\",col(\"Count\").cast('int'))\n",
    "    \n",
    "    # Pivote the Race column\n",
    "    index=['City', 'State', 'State Code', 'Median Age', 'Female Population', 'Male Population', 'Total Population', \\\n",
    "              'Number of Veterans', 'Foreign-born', 'Average Household Size']\n",
    "    pivot_df = demogra_df.groupBy(index).pivot('Race').sum('Count')\n",
    "    \n",
    "    # Fill all the NaN values use 0 for the numeric columns\n",
    "    fill_list = ['Male Population', 'Female Population', 'Number of Veterans', 'Foreign-born', \\\n",
    "        'Average Household Size', 'American Indian and Alaska Native', 'Asian', 'White', \\\n",
    "            'Black or African-American', 'Hispanic or Latino']\n",
    "    demogra_df = pivot_df.fillna(0, subset=fill_list)\n",
    "    \n",
    "    # Correct the number type for columns\n",
    "    demogra_df = demogra_df.withColumn('State Code', col('State Code').cast('string'))\n",
    "    \n",
    "    int_list = ['Male Population', 'Female Population', 'Number of Veterans', 'Foreign-born', 'Total Population', \\\n",
    "           'American Indian and Alaska Native', 'Asian', 'Black or African-American', 'Hispanic or Latino', 'White']\n",
    "    float_list = ['Median Age', 'Average Household Size']\n",
    "\n",
    "    for i in int_list:\n",
    "        demogra_df = demogra_df.withColumn(i, col(i).cast('int'))\n",
    "\n",
    "    for j in float_list:\n",
    "        demogra_df = demogra_df.withColumn(j, col(j).cast('float'))\n",
    "    \n",
    "    dim_demographics = demogra_df.withColumnRenamed('State Code', 'State_Code')\\\n",
    "                           .withColumnRenamed('Median Age', 'Median_Age')\\\n",
    "                           .withColumnRenamed('Female Population', 'Female_Population')\\\n",
    "                           .withColumnRenamed('Male Population', 'Male_Population')\\\n",
    "                           .withColumnRenamed('Total Population', 'Total_Population')\\\n",
    "                           .withColumnRenamed('Number of Veterans', 'Number_Veterans')\\\n",
    "                           .withColumnRenamed('Average Household Size', 'AverageHouseholdSize')\\\n",
    "                           .withColumnRenamed('American Indian and Alaska Native', 'AmericanIndian_AlaskaNative')\\\n",
    "                           .withColumnRenamed('Black or African-American', 'Black_AfricanAmerican')\\\n",
    "                           .withColumnRenamed('Hispanic or Latino', 'Hispanic_Latino')\n",
    "    print(dim_demographics.limit(5).toPandas())\n",
    "    \n",
    "    # Write table to parquet file\n",
    "    dim_demographics.write.mode('overwrite').parquet('output/demographics.parquet')\n",
    "    "
   ]
  },
  {
   "cell_type": "code",
   "execution_count": 48,
   "metadata": {
    "editable": true
   },
   "outputs": [
    {
     "name": "stdout",
     "output_type": "stream",
     "text": [
      "            City       State State_Code  Median_Age  Female_Population  \\\n",
      "0     Union City  California         CA   38.500000              35911   \n",
      "1         Kenner   Louisiana         LA   36.900002              33113   \n",
      "2   Murfreesboro   Tennessee         TN   30.200001              65417   \n",
      "3       El Cajon  California         CA   32.700001              49238   \n",
      "4  Brooklyn Park   Minnesota         MN   35.099998              41305   \n",
      "\n",
      "   Male_Population  Total_Population  Number_Veterans  Foreign-born  \\\n",
      "0            38599             74510             1440         32752   \n",
      "1            33993             67106             2485         12352   \n",
      "2            60704            126121             5199          8948   \n",
      "3            54450            103688             7103         31865   \n",
      "4            37845             79150             3506         17490   \n",
      "\n",
      "   AverageHouseholdSize  AmericanIndian_AlaskaNative  Asian  \\\n",
      "0                  3.46                          243  44849   \n",
      "1                  2.57                          158   2729   \n",
      "2                  2.60                         1339   7265   \n",
      "3                  3.14                         1891   4561   \n",
      "4                  2.85                         1173  14443   \n",
      "\n",
      "   Black_AfricanAmerican  Hispanic_Latino  White  \n",
      "0                   5508            13207  16845  \n",
      "1                  17172            17769  44863  \n",
      "2                  22651             8840  97270  \n",
      "3                   7534            31542  84703  \n",
      "4                  22550             4138  41760  \n"
     ]
    }
   ],
   "source": [
    "demogra_df = spark.read.format('csv').options(header='true').option(\"sep\", ';').load('input/us-cities-demographics.csv')\n",
    "create_dim_demographics(spark, demogra_df)"
   ]
  },
  {
   "cell_type": "markdown",
   "metadata": {
    "editable": true
   },
   "source": [
    "**Create the dimension table: dim_countries**"
   ]
  },
  {
   "cell_type": "code",
   "execution_count": 49,
   "metadata": {
    "editable": true
   },
   "outputs": [],
   "source": [
    "def create_dim_countries(spark, temperature, countries):\n",
    "    \"\"\"Clean the temperature, countries tables and create the dim_countries\n",
    "    \n",
    "    Keyword arguments:\n",
    "    * Spark --       Spark working session\n",
    "    * temperature --  input table\n",
    "    * countries -- input table\n",
    "\n",
    "    \n",
    "    Output:\n",
    "    * countries.parquet \n",
    "    \n",
    "    \"\"\"\n",
    "    # Calculate the average temperature for each country\n",
    "    temperature = temperature.groupby([\"Country\"]).agg(\n",
    "        {\"AverageTemperature\": \"avg\", \"Latitude\": \"first\", \"Longitude\": \"first\"})\\\n",
    "        .withColumnRenamed('avg(AverageTemperature)', 'avg_temperature')\\\n",
    "        .withColumnRenamed('first(Latitude)', 'latitude')\\\n",
    "        .withColumnRenamed('first(Longitude)', 'longitude')\n",
    "    temperature = temperature.withColumn('Country', upper(col('Country')))\n",
    "    \n",
    "    # clean the countries table\n",
    "    countries = countries.withColumn('Code', col('Code').cast('int'))\n",
    "    countries = countries.withColumn('Countries', col('Countries').cast('string'))\n",
    "    \n",
    "    # join the countries table to temoerature by the country column\n",
    "    dim_countries = temperature.join(countries, col('Country') == col('Countries'), 'inner').drop(col('Countries'))\n",
    "    \n",
    "    print(dim_countries.limit(5).toPandas())\n",
    "    # write the country_df to parquet file\n",
    "    dim_countries.write.mode('overwrite').parquet('output/countries.parquet')"
   ]
  },
  {
   "cell_type": "code",
   "execution_count": 50,
   "metadata": {
    "editable": true
   },
   "outputs": [
    {
     "name": "stdout",
     "output_type": "stream",
     "text": [
      "    Country  avg_temperature latitude longitude  Code\n",
      "0      CHAD        27.189829    8.84N    15.41E   384\n",
      "1  PARAGUAY        22.784014   24.92S    58.52W   693\n",
      "2    RUSSIA         3.347268   53.84N    91.36E   158\n",
      "3     YEMEN        25.768408   13.66N    45.41E   216\n",
      "4   SENEGAL        25.984177   15.27N    17.50W   391\n"
     ]
    }
   ],
   "source": [
    "fname = '../../data2/GlobalLandTemperaturesByCity.csv'\n",
    "temperature = spark.read.format('csv').options(header='true').option(\"sep\", ',').load(fname)\n",
    "countries = spark.read.format('csv').options(header='true').option(\"sep\", ',').load('input/countries.csv')\n",
    "create_dim_countries(spark, temperature, countries)"
   ]
  },
  {
   "cell_type": "markdown",
   "metadata": {
    "editable": true
   },
   "source": [
    "**Create the dimension table dim_airports**"
   ]
  },
  {
   "cell_type": "code",
   "execution_count": 51,
   "metadata": {
    "editable": true
   },
   "outputs": [],
   "source": [
    "def create_dim_airports(spark, airport, airport_code):\n",
    "    \"\"\"Clean the airport, airport_code tables and create the dim_airports\n",
    "    \n",
    "    Keyword arguments:\n",
    "    * Spark --       Spark working session\n",
    "    * airport --  input table\n",
    "    * airport_code -- input table\n",
    "\n",
    "    \n",
    "    Output:\n",
    "    * airports.parquet \n",
    "    \n",
    "    \"\"\"\n",
    "    # Clean the airport table\n",
    "    airport = airport.where(col('iso_country') == 'US')\n",
    "    airport = airport.where((col('type') != 'balloonport') & (col('type') != 'closed'))\n",
    "    airport = airport.where(col('local_code') != 'None')\n",
    "    airport = airport.where(col('iso_region') != 'US-U-A')\n",
    "    airport = airport.withColumn('iso_region', regexp_replace('iso_region', 'US-', ''))\n",
    "    \n",
    "    # Clean the airport_code table\n",
    "    airport_code = airport_code.withColumn('Code', col('Code').cast('string'))\n",
    "    airport_code = airport_code.withColumn('Airport', col('Airport').cast('string'))\n",
    "    \n",
    "    # Join the airport_code and airport tables together\n",
    "    dim_airports = airport.join(airport_code, col('local_code') == col('Code'), 'inner').drop(col('Code'))\\\n",
    "                    .withColumnRenamed('Airport', 'short_name')\n",
    "    print(dim_airports.limit(5).toPandas())\n",
    "    # Write out the dim_airports out\n",
    "    dim_airports.write.mode('overwrite').parquet('output/airports.parquet')"
   ]
  },
  {
   "cell_type": "code",
   "execution_count": 52,
   "metadata": {
    "editable": true
   },
   "outputs": [
    {
     "name": "stdout",
     "output_type": "stream",
     "text": [
      "  ident           type                                    name elevation_ft  \\\n",
      "0   48Y  small_airport          Piney Pinecreek Border Airport         1078   \n",
      "1   5KE  seaplane_base          Ketchikan Harbor Seaplane Base         None   \n",
      "2   CDD  seaplane_base                    Scotts Seaplane Base         1119   \n",
      "3   CSP       heliport              Cape Spencer C.G. Heliport           84   \n",
      "4  K5T6  small_airport  DoÃ±a Ana County International Jetport         4112   \n",
      "\n",
      "  continent iso_country iso_region  municipality gps_code iata_code  \\\n",
      "0        NA          US         MN     Pinecreek      48Y      None   \n",
      "1        NA          US         AK     Ketchikan     None       WFB   \n",
      "2        NA          US         MN    Crane Lake     KCDD      None   \n",
      "3        NA          US         AK  Cape Spencer     PACA      None   \n",
      "4        NA          US         NM  Santa Teresa     KDNA      None   \n",
      "\n",
      "  local_code                            coordinates  \\\n",
      "0        48Y  -95.98259735107422, 48.99959945678711   \n",
      "1        5KE                 -131.677002, 55.349899   \n",
      "2        CDD        -92.483497619629, 48.2666015625   \n",
      "3        CSP      -136.639007568, 58.19910049439999   \n",
      "4        DNA                 -106.705002, 31.881001   \n",
      "\n",
      "                        short_name  \n",
      "0        PINECREEK BORDER ARPT, MN  \n",
      "1                    KETCHIKAN, AK  \n",
      "2  CRANE LAKE - ST. LOUIS CNTY, NM  \n",
      "3           CASPER, WY              \n",
      "4                        DONNA, TX  \n"
     ]
    }
   ],
   "source": [
    "airport = spark.read.format('csv').options(header='true').option(\"sep\", ',').load('input/airport-codes_csv.csv')\n",
    "airport_code = spark.read.format('csv').options(header='true').option(\"sep\", ',').load('input/airport.csv')\n",
    "create_dim_airports(spark, airport, airport_code)"
   ]
  },
  {
   "cell_type": "markdown",
   "metadata": {
    "editable": true
   },
   "source": [
    "**Create Fact table: fact_immigration**"
   ]
  },
  {
   "cell_type": "code",
   "execution_count": 53,
   "metadata": {
    "editable": true
   },
   "outputs": [],
   "source": [
    "@udf(StringType())\n",
    "def convert_datetime(x):\n",
    "    if x:\n",
    "        return (datetime(1960, 1, 1).date() + timedelta(x)).isoformat()\n",
    "    return None"
   ]
  },
  {
   "cell_type": "code",
   "execution_count": 54,
   "metadata": {
    "editable": true
   },
   "outputs": [],
   "source": [
    "def create_fact_immigration(spark, immigration_df):\n",
    "    \"\"\"Clean the immigration_df table and create the fact_immigration\n",
    "    \n",
    "    Keyword arguments:\n",
    "    * Spark --       Spark working session\n",
    "    * immigration_df --  input table\n",
    "\n",
    "    \n",
    "    Output:\n",
    "    * immigration.parquet \n",
    "    \n",
    "    \"\"\"\n",
    "    # Clean and create the fact_immigration table\n",
    "    immigration_df = immigration_df.dropna(how=\"any\", subset=[\"i94port\", \"i94addr\", \"gender\"])\n",
    "    immigration_df = immigration_df.drop('entdepu', 'entdepd', 'count', 'dtadfile', 'visapost', 'matflag', \\\n",
    "                                    'dtaddto', 'insnum', 'admnum', 'occup')\n",
    "    immigration_df = immigration_df.withColumn(\"cicid\",col(\"cicid\").cast('int'))\\\n",
    "                                .withColumn(\"i94yr\",col(\"i94yr\").cast('int'))\\\n",
    "                                .withColumn(\"i94mon\",col(\"i94mon\").cast('int'))\\\n",
    "                                .withColumn(\"i94cit\",col(\"i94cit\").cast('int'))\\\n",
    "                                .withColumn(\"i94res\",col(\"i94res\").cast('int'))\\\n",
    "                                .withColumn(\"arrdate\",col(\"arrdate\").cast('int'))\\\n",
    "                                .withColumn(\"i94mode\",col(\"i94mode\").cast('int'))\\\n",
    "                                .withColumn(\"depdate\",col(\"depdate\").cast('int'))\\\n",
    "                                .withColumn(\"i94bir\",col(\"i94bir\").cast('int'))\\\n",
    "                                .withColumn(\"i94visa\",col(\"i94visa\").cast('int'))\\\n",
    "                                .withColumn(\"biryear\",col(\"biryear\").cast('int'))\n",
    "    immigration_df = immigration_df.withColumn(\"arrdate\", convert_datetime(immigration_df.arrdate))\n",
    "    fact_immigration = immigration_df.withColumn(\"depdate\", convert_datetime(immigration_df.depdate))\n",
    "    \n",
    "    print(fact_immigration.limit(5).toPandas())\n",
    "    # Write the fact_immigration to parquet file\n",
    "    fact_immigration.write.partitionBy('arrdate').mode('overwrite').parquet('output/immigration.parquet')"
   ]
  },
  {
   "cell_type": "code",
   "execution_count": 55,
   "metadata": {
    "editable": true
   },
   "outputs": [
    {
     "name": "stdout",
     "output_type": "stream",
     "text": [
      "     cicid  i94yr  i94mon  i94cit  i94res i94port     arrdate  i94mode  \\\n",
      "0  5748517   2016       4     245     438     LOS  2016-04-30        1   \n",
      "1  5748518   2016       4     245     438     LOS  2016-04-30        1   \n",
      "2  5748519   2016       4     245     438     LOS  2016-04-30        1   \n",
      "3  5748520   2016       4     245     438     LOS  2016-04-30        1   \n",
      "4  5748521   2016       4     245     438     LOS  2016-04-30        1   \n",
      "\n",
      "  i94addr     depdate  i94bir  i94visa entdepa  biryear gender airline  fltno  \\\n",
      "0      CA  2016-05-08      40        1       G     1976      F      QF  00011   \n",
      "1      NV  2016-05-17      32        1       G     1984      F      VA  00007   \n",
      "2      WA  2016-05-08      29        1       G     1987      M      DL  00040   \n",
      "3      WA  2016-05-14      29        1       G     1987      F      DL  00040   \n",
      "4      WA  2016-05-14      28        1       G     1988      M      DL  00040   \n",
      "\n",
      "  visatype  \n",
      "0       B1  \n",
      "1       B1  \n",
      "2       B1  \n",
      "3       B1  \n",
      "4       B1  \n"
     ]
    }
   ],
   "source": [
    "immigration_df = spark.read.parquet('./sas_data')\n",
    "create_fact_immigration(spark, immigration_df)"
   ]
  },
  {
   "cell_type": "markdown",
   "metadata": {
    "editable": true
   },
   "source": [
    "#### 4.2 Data Quality Checks\n",
    "Here we have two steps for the checking of data quality:  \n",
    "- Check if the model create the parquet files sucessfully.  \n",
    "- Check if the parquet files created by the model have more than one row (not empty)  \n",
    "\n",
    " \n",
    "**Run Quality Checks**"
   ]
  },
  {
   "cell_type": "code",
   "execution_count": 56,
   "metadata": {
    "editable": true
   },
   "outputs": [],
   "source": [
    "# Read in the dimension tables\n",
    "dim_demographics = spark.read.parquet(\"output/demographics.parquet\")\n",
    "dim_countries = spark.read.parquet(\"output/countries.parquet\")\n",
    "dim_airports = spark.read.parquet(\"output/airports.parquet\")\n",
    "# Read in the fact table\n",
    "fact_immigration = spark.read.parquet(\"output/immigration.parquet\")"
   ]
  },
  {
   "cell_type": "code",
   "execution_count": 57,
   "metadata": {
    "editable": true
   },
   "outputs": [
    {
     "name": "stdout",
     "output_type": "stream",
     "text": [
      "All tables exist.\n"
     ]
    }
   ],
   "source": [
    "def table_exists(table):\n",
    "    if table is not None:\n",
    "        return True\n",
    "    else:\n",
    "        print('There is no table %s' %table)\n",
    "        return False\n",
    "    \n",
    "if table_exists(dim_demographics)&table_exists(dim_countries)&table_exists(dim_airports)\\\n",
    "     &table_exists(fact_immigration) is True:\n",
    "    print('All tables exist.')"
   ]
  },
  {
   "cell_type": "code",
   "execution_count": 58,
   "metadata": {
    "editable": true
   },
   "outputs": [
    {
     "name": "stdout",
     "output_type": "stream",
     "text": [
      "All tables are not empty\n"
     ]
    }
   ],
   "source": [
    "if dim_demographics.count() > 0 and dim_countries.count() > 0 and dim_airports.count() > 0 and \\\n",
    "    fact_immigration.count() > 0:\n",
    "    print('All tables are not empty')\n",
    "else:\n",
    "    print('Some tables are empty')"
   ]
  },
  {
   "cell_type": "markdown",
   "metadata": {
    "editable": true
   },
   "source": [
    "#### 4.3 Data dictionary \n",
    "In this model, we create one fact table **fact_immigration**, and three dimension tables: **dim_demographics, dim_countries, dim_airports**."
   ]
  },
  {
   "cell_type": "markdown",
   "metadata": {
    "editable": true
   },
   "source": [
    "- **Fact table -- fact_immigration**\n",
    "\n",
    "| Column Name   | Description                                            |\n",
    "| :------------ | -----------------------------------------------------: |\n",
    "| cicd          | Record ID                                              |\n",
    "| i94yr         | 4 digit year                                           |\n",
    "| i94mon        | Numeric month                                          |\n",
    "| i94cit        | Contry of citizenship                                  |\n",
    "| i94res        | Country of residence                                   |\n",
    "| i94port       | Three letter airport code                              |\n",
    "| arrdate       | Arrival date in the USA                                |\n",
    "| i94mode       | Mode of transportation                                 |\n",
    "| i94addr       | State code                                             |\n",
    "| depdate       | Departure date in the USA                              |\n",
    "| i94bir        | Age of Respondent in Years                             |\n",
    "| i94visa       | Visa codes (1 = Business, 2 = Pleasure, 3 = Student)   |\n",
    "| entdepa       | Arrival Flag                                           |\n",
    "| biryear       | 4 digit year of birth                                  |\n",
    "| gender        | Non-immigrant sex                                      |\n",
    "| airline       | Airline used to arrive in U.S.                         |\n",
    "| fltno         | Flight number of Airline used to arrive in U.S.        |\n",
    "| visatype      | Class of admission legally admitting the non-immigrant |"
   ]
  },
  {
   "cell_type": "markdown",
   "metadata": {
    "editable": true
   },
   "source": [
    "- **Dimension table -- dim_countries**  \n",
    "| Column Name                   | Description                                            |\n",
    "| :---------------------------- | -----------------------------------: |\n",
    "| code                          | 4 digit code for country             |\n",
    "| Country                       | Country Name                         |\n",
    "| AverageTemperature            | Average Temperature for country      |\n",
    "| AverageTemperatureUncertainty | Uncertaintay of Average Temperature  |"
   ]
  },
  {
   "cell_type": "markdown",
   "metadata": {
    "editable": true
   },
   "source": [
    "- **Dimension table -- dim_demographics**  \n",
    "\n",
    "| Column Name                 | Description                                            |\n",
    "| :-------------------------- | -----------------------------------------------------: |\n",
    "| City                        | City                                                   |\n",
    "| State                       | State                                                  |\n",
    "| Median                      | Meadian age                                            |\n",
    "| Age                         | Age                                                    |\n",
    "| Female_Population           | number of female                                       |\n",
    "| Male_Population             | number of male                                         |\n",
    "| Total_Population            | number of citizen                                      |\n",
    "| Number_Veterans             | number of Veterans                                     |\n",
    "| Foreign_born                | number of citizen born outside of US                   |\n",
    "| AverageHouseholdSize        | Average of household size                              |\n",
    "| State_Code                  | Two letter state code                                  |\n",
    "| AmericanIndian_AlaskaNative | Race                                                   |\n",
    "| Black_AfricanAmerican       | Race                                                   |\n",
    "| Hispanic_Latino             | Race                                                   |\n",
    "| Asian                       | Race                                                   |\n",
    "| White                       | Race        |"
   ]
  },
  {
   "cell_type": "markdown",
   "metadata": {
    "editable": true
   },
   "source": [
    "- **Dimension table -- dim_airports**  \n",
    "\n",
    "| Column Name  | Description                                                             |\n",
    "| :------------| ----------------------------------------------------------------------: |\n",
    "| ident        | Identity ID                                                             |\n",
    "| type         | Type of airport                                                         |\n",
    "| name         | Name of airport                                                         |\n",
    "| elevation_ft | Elevation above the sea level in feet                                   |\n",
    "| continent    | Continent code                                                          |\n",
    "| iso_country  | ISO Country Code                                                        |\n",
    "| iso_region   | ISO Region Code                                                         |\n",
    "| municipality | municipality                                                            |\n",
    "| gps_code     | GPS Code                                                                |\n",
    "| iata_code    | Code of the airport assigned by International Air Transport Association |\n",
    "| local_code   | Local Code                                                              |\n",
    "| coordinates  | Coordinates                                                             |"
   ]
  },
  {
   "cell_type": "markdown",
   "metadata": {
    "editable": true
   },
   "source": [
    "#### Step 5: Complete Project Write Up\n",
    "* Clearly state the rationale for the choice of tools and technologies for the project.\n",
    "\n",
    "  - **Here we use Spark seesion to build the ETL pipeline beacause the high speed of dealing with large dataset, low-latency in-memory data processing capability and handling with different type of data. We could also run the ETL in the AWS EMR clusters**.  \n",
    "  \n",
    "* Propose how often the data should be updated and why.  \n",
    "  - **The immigration table are stored by month and day, we could update the dataset every day or every month**.   \n",
    "   \n",
    "* Write a description of how you would approach the problem differently under the following scenarios:\n",
    " * The data was increased by 100x.  \n",
    "   - **We could move our pipeline to the AWS cloud EMR cluster, Amazon EMR provides flexibility to scale your cluster up or down as your computing needs change. You can resize your cluster to add instances for dataset size changing**.  \n",
    " * The data populates a dashboard that must be updated on a daily basis by 7am every day.  \n",
    "   - **We could implement this ETL pipeline with Airflow to scheduel the data running by 7am every day**.    \n",
    " * The database needed to be accessed by 100+ people.\n",
    "   - **We could store our output data into AWS Redshift cluster, Redshift distributes and parallelize your queries across multiple nodes. Redshift also gives you an option to use Dense Compute nodes**."
   ]
  }
 ],
 "metadata": {
  "kernelspec": {
   "display_name": "Python 3",
   "language": "python",
   "name": "python3"
  },
  "language_info": {
   "codemirror_mode": {
    "name": "ipython",
    "version": 3
   },
   "file_extension": ".py",
   "mimetype": "text/x-python",
   "name": "python",
   "nbconvert_exporter": "python",
   "pygments_lexer": "ipython3",
   "version": "3.6.3"
  }
 },
 "nbformat": 4,
 "nbformat_minor": 4
}
